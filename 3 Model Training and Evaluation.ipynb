{
 "cells": [
  {
   "cell_type": "markdown",
   "metadata": {},
   "source": [
    "# Classifying Urban sounds using Deep Learning\n",
    "\n",
    "## 3 Model Training and Evaluation "
   ]
  },
  {
   "cell_type": "markdown",
   "metadata": {},
   "source": [
    "### Load Preprocessed data "
   ]
  },
  {
   "cell_type": "code",
   "execution_count": 1,
   "metadata": {},
   "outputs": [],
   "source": [
    "# retrieve the preprocessed data from previous notebook\n",
    "\n",
    "%store -r x_train \n",
    "%store -r x_test \n",
    "%store -r y_train \n",
    "%store -r y_test \n",
    "%store -r yy \n",
    "%store -r le"
   ]
  },
  {
   "cell_type": "markdown",
   "metadata": {},
   "source": [
    "### Initial model architecture - MLP\n",
    "\n",
    "We will start with constructing a Multilayer Perceptron (MLP) Neural Network using Keras and a Tensorflow backend. \n",
    "\n",
    "Starting with a `sequential` model so we can build the model layer by layer. \n",
    "\n",
    "We will begin with a simple model architecture, consisting of three layers, an input layer, a hidden layer and an output layer. All three layers will be of the `dense` layer type which is a standard layer type that is used in many cases for neural networks. \n",
    "\n",
    "The first layer will receive the input shape. As each sample contains 40 MFCCs (or columns) we have a shape of (1x40) this means we will start with an input shape of 40. \n",
    "\n",
    "The first two layers will have 256 nodes. The activation function we will be using for our first 2 layers is the `ReLU`, or `Rectified Linear Activation`. This activation function has been proven to work well in neural networks.\n",
    "\n",
    "We will also apply a `Dropout` value of 50% on our first two layers. This will randomly exclude nodes from each update cycle which in turn results in a network that is capable of better generalisation and is less likely to overfit the training data.\n",
    "\n",
    "Our output layer will have 10 nodes (num_labels) which matches the number of possible classifications. The activation is for our output layer is `softmax`. Softmax makes the output sum up to 1 so the output can be interpreted as probabilities. The model will then make its prediction based on which option has the highest probability."
   ]
  },
  {
   "cell_type": "code",
   "execution_count": 2,
   "metadata": {},
   "outputs": [
    {
     "name": "stdout",
     "output_type": "stream",
     "text": [
      "Requirement already satisfied: keras in c:\\users\\steph\\anaconda\\lib\\site-packages (2.2.4)\n",
      "Requirement already satisfied: scipy>=0.14 in c:\\users\\steph\\anaconda\\lib\\site-packages (from keras) (1.2.1)\n",
      "Requirement already satisfied: h5py in c:\\users\\steph\\anaconda\\lib\\site-packages (from keras) (2.9.0)\n",
      "Requirement already satisfied: numpy>=1.9.1 in c:\\users\\steph\\anaconda\\lib\\site-packages (from keras) (1.16.2)\n",
      "Requirement already satisfied: keras-preprocessing>=1.0.5 in c:\\users\\steph\\anaconda\\lib\\site-packages (from keras) (1.1.0)\n",
      "Requirement already satisfied: six>=1.9.0 in c:\\users\\steph\\anaconda\\lib\\site-packages (from keras) (1.12.0)\n",
      "Requirement already satisfied: pyyaml in c:\\users\\steph\\anaconda\\lib\\site-packages (from keras) (5.1)\n",
      "Requirement already satisfied: keras-applications>=1.0.6 in c:\\users\\steph\\anaconda\\lib\\site-packages (from keras) (1.0.8)\n",
      "Note: you may need to restart the kernel to use updated packages.\n"
     ]
    }
   ],
   "source": [
    "pip install keras\n"
   ]
  },
  {
   "cell_type": "code",
   "execution_count": null,
   "metadata": {},
   "outputs": [],
   "source": [
    "pip install tensorflow"
   ]
  },
  {
   "cell_type": "code",
   "execution_count": 3,
   "metadata": {},
   "outputs": [
    {
     "name": "stderr",
     "output_type": "stream",
     "text": [
      "Using TensorFlow backend.\n",
      "WARNING: Logging before flag parsing goes to stderr.\n",
      "W0726 15:11:53.761097 14244 deprecation_wrapper.py:119] From C:\\Users\\steph\\Anaconda\\lib\\site-packages\\keras\\backend\\tensorflow_backend.py:74: The name tf.get_default_graph is deprecated. Please use tf.compat.v1.get_default_graph instead.\n",
      "\n",
      "W0726 15:11:53.848887 14244 deprecation_wrapper.py:119] From C:\\Users\\steph\\Anaconda\\lib\\site-packages\\keras\\backend\\tensorflow_backend.py:517: The name tf.placeholder is deprecated. Please use tf.compat.v1.placeholder instead.\n",
      "\n",
      "W0726 15:11:53.875674 14244 deprecation_wrapper.py:119] From C:\\Users\\steph\\Anaconda\\lib\\site-packages\\keras\\backend\\tensorflow_backend.py:4138: The name tf.random_uniform is deprecated. Please use tf.random.uniform instead.\n",
      "\n",
      "W0726 15:11:53.938665 14244 deprecation_wrapper.py:119] From C:\\Users\\steph\\Anaconda\\lib\\site-packages\\keras\\backend\\tensorflow_backend.py:133: The name tf.placeholder_with_default is deprecated. Please use tf.compat.v1.placeholder_with_default instead.\n",
      "\n",
      "W0726 15:11:53.974375 14244 deprecation.py:506] From C:\\Users\\steph\\Anaconda\\lib\\site-packages\\keras\\backend\\tensorflow_backend.py:3445: calling dropout (from tensorflow.python.ops.nn_ops) with keep_prob is deprecated and will be removed in a future version.\n",
      "Instructions for updating:\n",
      "Please use `rate` instead of `keep_prob`. Rate should be set to `rate = 1 - keep_prob`.\n"
     ]
    }
   ],
   "source": [
    "import numpy as np\n",
    "from keras.models import Sequential\n",
    "from keras.layers import Dense, Dropout, Activation, Flatten\n",
    "from keras.layers import Convolution2D, MaxPooling2D\n",
    "from keras.optimizers import Adam\n",
    "from keras.utils import np_utils\n",
    "from sklearn import metrics \n",
    "\n",
    "num_labels = yy.shape[1]\n",
    "filter_size = 2\n",
    "\n",
    "# Construct model \n",
    "model = Sequential()\n",
    "\n",
    "model.add(Dense(256, input_shape=(40,)))\n",
    "model.add(Activation('relu'))\n",
    "model.add(Dropout(0.5))\n",
    "\n",
    "model.add(Dense(256))\n",
    "model.add(Activation('relu'))\n",
    "model.add(Dropout(0.5))\n",
    "\n",
    "model.add(Dense(num_labels))\n",
    "model.add(Activation('softmax'))"
   ]
  },
  {
   "cell_type": "markdown",
   "metadata": {},
   "source": [
    "### Compiling the model \n",
    "\n",
    "For compiling our model, we will use the following three parameters: \n",
    "\n",
    "* Loss function - we will use `categorical_crossentropy`. This is the most common choice for classification. A lower score indicates that the model is performing better.\n",
    "\n",
    "* Metrics - we will use the `accuracy` metric which will allow us to view the accuracy score on the validation data when we train the model. \n",
    "\n",
    "* Optimizer - here we will use `adam` which is a generally good optimizer for many use cases.\n"
   ]
  },
  {
   "cell_type": "code",
   "execution_count": 4,
   "metadata": {},
   "outputs": [
    {
     "name": "stderr",
     "output_type": "stream",
     "text": [
      "W0726 15:12:06.704394 14244 deprecation_wrapper.py:119] From C:\\Users\\steph\\Anaconda\\lib\\site-packages\\keras\\optimizers.py:790: The name tf.train.Optimizer is deprecated. Please use tf.compat.v1.train.Optimizer instead.\n",
      "\n",
      "W0726 15:12:06.754489 14244 deprecation_wrapper.py:119] From C:\\Users\\steph\\Anaconda\\lib\\site-packages\\keras\\backend\\tensorflow_backend.py:3295: The name tf.log is deprecated. Please use tf.math.log instead.\n",
      "\n"
     ]
    }
   ],
   "source": [
    "# Compile the model\n",
    "model.compile(loss='categorical_crossentropy', metrics=['accuracy'], optimizer='adam') "
   ]
  },
  {
   "cell_type": "code",
   "execution_count": 5,
   "metadata": {},
   "outputs": [
    {
     "name": "stdout",
     "output_type": "stream",
     "text": [
      "_________________________________________________________________\n",
      "Layer (type)                 Output Shape              Param #   \n",
      "=================================================================\n",
      "dense_1 (Dense)              (None, 256)               10496     \n",
      "_________________________________________________________________\n",
      "activation_1 (Activation)    (None, 256)               0         \n",
      "_________________________________________________________________\n",
      "dropout_1 (Dropout)          (None, 256)               0         \n",
      "_________________________________________________________________\n",
      "dense_2 (Dense)              (None, 256)               65792     \n",
      "_________________________________________________________________\n",
      "activation_2 (Activation)    (None, 256)               0         \n",
      "_________________________________________________________________\n",
      "dropout_2 (Dropout)          (None, 256)               0         \n",
      "_________________________________________________________________\n",
      "dense_3 (Dense)              (None, 10)                2570      \n",
      "_________________________________________________________________\n",
      "activation_3 (Activation)    (None, 10)                0         \n",
      "=================================================================\n",
      "Total params: 78,858\n",
      "Trainable params: 78,858\n",
      "Non-trainable params: 0\n",
      "_________________________________________________________________\n",
      "Pre-training accuracy: 6.2393%\n"
     ]
    }
   ],
   "source": [
    "# Display model architecture summary \n",
    "model.summary()\n",
    "\n",
    "# Calculate pre-training accuracy \n",
    "score = model.evaluate(x_test, y_test, verbose=0)\n",
    "accuracy = 100*score[1]\n",
    "\n",
    "print(\"Pre-training accuracy: %.4f%%\" % accuracy)"
   ]
  },
  {
   "cell_type": "markdown",
   "metadata": {},
   "source": [
    "### Training \n",
    "\n",
    "Here we will train the model. \n",
    "\n",
    "We will start with 100 epochs which is the number of times the model will cycle through the data. The model will improve on each cycle until it reaches a certain point. \n",
    "\n",
    "We will also start with a low batch size, as having a large batch size can reduce the generalisation ability of the model. "
   ]
  },
  {
   "cell_type": "code",
   "execution_count": 6,
   "metadata": {},
   "outputs": [
    {
     "name": "stderr",
     "output_type": "stream",
     "text": [
      "W0726 15:12:31.569077 14244 deprecation.py:323] From C:\\Users\\steph\\Anaconda\\lib\\site-packages\\tensorflow\\python\\ops\\math_grad.py:1250: add_dispatch_support.<locals>.wrapper (from tensorflow.python.ops.array_ops) is deprecated and will be removed in a future version.\n",
      "Instructions for updating:\n",
      "Use tf.where in 2.0, which has the same broadcast rule as np.where\n"
     ]
    },
    {
     "name": "stdout",
     "output_type": "stream",
     "text": [
      "Train on 6985 samples, validate on 1747 samples\n",
      "Epoch 1/100\n",
      "6985/6985 [==============================] - 3s 364us/step - loss: 11.9232 - acc: 0.1825 - val_loss: 7.5757 - val_acc: 0.3417\n",
      "\n",
      "Epoch 00001: val_loss improved from inf to 7.57571, saving model to saved_models/weights.best.basic_mlp.hdf5\n",
      "Epoch 2/100\n",
      "6985/6985 [==============================] - 1s 163us/step - loss: 6.1689 - acc: 0.3121 - val_loss: 1.6443 - val_acc: 0.4997\n",
      "\n",
      "Epoch 00002: val_loss improved from 7.57571 to 1.64430, saving model to saved_models/weights.best.basic_mlp.hdf5\n",
      "Epoch 3/100\n",
      "6985/6985 [==============================] - 1s 179us/step - loss: 2.0083 - acc: 0.3739 - val_loss: 1.5679 - val_acc: 0.5278\n",
      "\n",
      "Epoch 00003: val_loss improved from 1.64430 to 1.56790, saving model to saved_models/weights.best.basic_mlp.hdf5\n",
      "Epoch 4/100\n",
      "6985/6985 [==============================] - 1s 185us/step - loss: 1.6679 - acc: 0.4448 - val_loss: 1.3627 - val_acc: 0.6119\n",
      "\n",
      "Epoch 00004: val_loss improved from 1.56790 to 1.36272, saving model to saved_models/weights.best.basic_mlp.hdf5\n",
      "Epoch 5/100\n",
      "6985/6985 [==============================] - 1s 180us/step - loss: 1.5121 - acc: 0.4890 - val_loss: 1.2166 - val_acc: 0.6251\n",
      "\n",
      "Epoch 00005: val_loss improved from 1.36272 to 1.21658, saving model to saved_models/weights.best.basic_mlp.hdf5\n",
      "Epoch 6/100\n",
      "6985/6985 [==============================] - 1s 169us/step - loss: 1.4217 - acc: 0.5207 - val_loss: 1.1851 - val_acc: 0.6337\n",
      "\n",
      "Epoch 00006: val_loss improved from 1.21658 to 1.18505, saving model to saved_models/weights.best.basic_mlp.hdf5\n",
      "Epoch 7/100\n",
      "6985/6985 [==============================] - 1s 186us/step - loss: 1.3351 - acc: 0.5465 - val_loss: 1.1357 - val_acc: 0.6817\n",
      "\n",
      "Epoch 00007: val_loss improved from 1.18505 to 1.13575, saving model to saved_models/weights.best.basic_mlp.hdf5\n",
      "Epoch 8/100\n",
      "6985/6985 [==============================] - 1s 168us/step - loss: 1.2563 - acc: 0.5688 - val_loss: 1.0391 - val_acc: 0.6926\n",
      "\n",
      "Epoch 00008: val_loss improved from 1.13575 to 1.03905, saving model to saved_models/weights.best.basic_mlp.hdf5\n",
      "Epoch 9/100\n",
      "6985/6985 [==============================] - 1s 171us/step - loss: 1.1994 - acc: 0.5916 - val_loss: 0.9619 - val_acc: 0.7069\n",
      "\n",
      "Epoch 00009: val_loss improved from 1.03905 to 0.96187, saving model to saved_models/weights.best.basic_mlp.hdf5\n",
      "Epoch 10/100\n",
      "6985/6985 [==============================] - 1s 177us/step - loss: 1.1759 - acc: 0.6070 - val_loss: 0.9388 - val_acc: 0.7235\n",
      "\n",
      "Epoch 00010: val_loss improved from 0.96187 to 0.93882, saving model to saved_models/weights.best.basic_mlp.hdf5\n",
      "Epoch 11/100\n",
      "6985/6985 [==============================] - 1s 166us/step - loss: 1.1405 - acc: 0.6147 - val_loss: 0.9134 - val_acc: 0.7424\n",
      "\n",
      "Epoch 00011: val_loss improved from 0.93882 to 0.91341, saving model to saved_models/weights.best.basic_mlp.hdf5\n",
      "Epoch 12/100\n",
      "6985/6985 [==============================] - 1s 175us/step - loss: 1.1064 - acc: 0.6239 - val_loss: 0.8862 - val_acc: 0.7390\n",
      "\n",
      "Epoch 00012: val_loss improved from 0.91341 to 0.88616, saving model to saved_models/weights.best.basic_mlp.hdf5\n",
      "Epoch 13/100\n",
      "6985/6985 [==============================] - 1s 173us/step - loss: 1.0496 - acc: 0.6431 - val_loss: 0.8483 - val_acc: 0.7459\n",
      "\n",
      "Epoch 00013: val_loss improved from 0.88616 to 0.84826, saving model to saved_models/weights.best.basic_mlp.hdf5\n",
      "Epoch 14/100\n",
      "6985/6985 [==============================] - 1s 172us/step - loss: 1.0291 - acc: 0.6505 - val_loss: 0.7880 - val_acc: 0.7607\n",
      "\n",
      "Epoch 00014: val_loss improved from 0.84826 to 0.78797, saving model to saved_models/weights.best.basic_mlp.hdf5\n",
      "Epoch 15/100\n",
      "6985/6985 [==============================] - 1s 178us/step - loss: 1.0157 - acc: 0.6568 - val_loss: 0.7879 - val_acc: 0.7596\n",
      "\n",
      "Epoch 00015: val_loss improved from 0.78797 to 0.78789, saving model to saved_models/weights.best.basic_mlp.hdf5\n",
      "Epoch 16/100\n",
      "6985/6985 [==============================] - 1s 166us/step - loss: 0.9746 - acc: 0.6746 - val_loss: 0.7374 - val_acc: 0.7745\n",
      "\n",
      "Epoch 00016: val_loss improved from 0.78789 to 0.73740, saving model to saved_models/weights.best.basic_mlp.hdf5\n",
      "Epoch 17/100\n",
      "6985/6985 [==============================] - 1s 182us/step - loss: 0.9547 - acc: 0.6849 - val_loss: 0.7343 - val_acc: 0.7825\n",
      "\n",
      "Epoch 00017: val_loss improved from 0.73740 to 0.73433, saving model to saved_models/weights.best.basic_mlp.hdf5\n",
      "Epoch 18/100\n",
      "6985/6985 [==============================] - 1s 184us/step - loss: 0.9363 - acc: 0.6833 - val_loss: 0.7023 - val_acc: 0.7853\n",
      "\n",
      "Epoch 00018: val_loss improved from 0.73433 to 0.70231, saving model to saved_models/weights.best.basic_mlp.hdf5\n",
      "Epoch 19/100\n",
      "6985/6985 [==============================] - 1s 183us/step - loss: 0.9153 - acc: 0.6913 - val_loss: 0.7037 - val_acc: 0.7825\n",
      "\n",
      "Epoch 00019: val_loss did not improve from 0.70231\n",
      "Epoch 20/100\n",
      "6985/6985 [==============================] - 1s 182us/step - loss: 0.8995 - acc: 0.7019 - val_loss: 0.6959 - val_acc: 0.7848\n",
      "\n",
      "Epoch 00020: val_loss improved from 0.70231 to 0.69589, saving model to saved_models/weights.best.basic_mlp.hdf5\n",
      "Epoch 21/100\n",
      "6985/6985 [==============================] - 1s 186us/step - loss: 0.8667 - acc: 0.7124 - val_loss: 0.6658 - val_acc: 0.8031\n",
      "\n",
      "Epoch 00021: val_loss improved from 0.69589 to 0.66581, saving model to saved_models/weights.best.basic_mlp.hdf5\n",
      "Epoch 22/100\n",
      "6985/6985 [==============================] - 2s 246us/step - loss: 0.8545 - acc: 0.7141 - val_loss: 0.6489 - val_acc: 0.7905\n",
      "\n",
      "Epoch 00022: val_loss improved from 0.66581 to 0.64891, saving model to saved_models/weights.best.basic_mlp.hdf5\n",
      "Epoch 23/100\n",
      "6985/6985 [==============================] - 2s 217us/step - loss: 0.8519 - acc: 0.7145 - val_loss: 0.6182 - val_acc: 0.8128\n",
      "\n",
      "Epoch 00023: val_loss improved from 0.64891 to 0.61824, saving model to saved_models/weights.best.basic_mlp.hdf5\n",
      "Epoch 24/100\n",
      "6985/6985 [==============================] - 1s 175us/step - loss: 0.8288 - acc: 0.7208 - val_loss: 0.6189 - val_acc: 0.8134\n",
      "\n",
      "Epoch 00024: val_loss did not improve from 0.61824\n",
      "Epoch 25/100\n",
      "6985/6985 [==============================] - 1s 199us/step - loss: 0.8068 - acc: 0.7270 - val_loss: 0.6233 - val_acc: 0.8077\n",
      "\n",
      "Epoch 00025: val_loss did not improve from 0.61824\n",
      "Epoch 26/100\n",
      "6985/6985 [==============================] - 1s 204us/step - loss: 0.7998 - acc: 0.7283 - val_loss: 0.5870 - val_acc: 0.8151\n",
      "\n",
      "Epoch 00026: val_loss improved from 0.61824 to 0.58702, saving model to saved_models/weights.best.basic_mlp.hdf5\n",
      "Epoch 27/100\n",
      "6985/6985 [==============================] - 1s 208us/step - loss: 0.7914 - acc: 0.7290 - val_loss: 0.5821 - val_acc: 0.8254\n",
      "\n",
      "Epoch 00027: val_loss improved from 0.58702 to 0.58214, saving model to saved_models/weights.best.basic_mlp.hdf5\n",
      "Epoch 28/100\n",
      "6985/6985 [==============================] - 1s 189us/step - loss: 0.7915 - acc: 0.7253 - val_loss: 0.5920 - val_acc: 0.8243\n",
      "\n",
      "Epoch 00028: val_loss did not improve from 0.58214\n",
      "Epoch 29/100\n",
      "6985/6985 [==============================] - 1s 176us/step - loss: 0.7598 - acc: 0.7353 - val_loss: 0.5849 - val_acc: 0.8231\n",
      "\n",
      "Epoch 00029: val_loss did not improve from 0.58214\n",
      "Epoch 30/100\n",
      "6985/6985 [==============================] - 1s 176us/step - loss: 0.7554 - acc: 0.7419 - val_loss: 0.5661 - val_acc: 0.8197\n",
      "\n",
      "Epoch 00030: val_loss improved from 0.58214 to 0.56610, saving model to saved_models/weights.best.basic_mlp.hdf5\n",
      "Epoch 31/100\n",
      "6985/6985 [==============================] - 1s 175us/step - loss: 0.7626 - acc: 0.7377 - val_loss: 0.5620 - val_acc: 0.8300\n",
      "\n",
      "Epoch 00031: val_loss improved from 0.56610 to 0.56199, saving model to saved_models/weights.best.basic_mlp.hdf5\n",
      "Epoch 32/100\n",
      "6985/6985 [==============================] - 1s 174us/step - loss: 0.7256 - acc: 0.7449 - val_loss: 0.5745 - val_acc: 0.8151\n",
      "\n",
      "Epoch 00032: val_loss did not improve from 0.56199\n",
      "Epoch 33/100\n",
      "6985/6985 [==============================] - 1s 173us/step - loss: 0.7258 - acc: 0.7518 - val_loss: 0.5557 - val_acc: 0.8220\n",
      "\n",
      "Epoch 00033: val_loss improved from 0.56199 to 0.55569, saving model to saved_models/weights.best.basic_mlp.hdf5\n",
      "Epoch 34/100\n",
      "6985/6985 [==============================] - 1s 175us/step - loss: 0.7371 - acc: 0.7505 - val_loss: 0.5386 - val_acc: 0.8409\n",
      "\n",
      "Epoch 00034: val_loss improved from 0.55569 to 0.53865, saving model to saved_models/weights.best.basic_mlp.hdf5\n"
     ]
    },
    {
     "name": "stdout",
     "output_type": "stream",
     "text": [
      "Epoch 35/100\n",
      "6985/6985 [==============================] - 1s 184us/step - loss: 0.7203 - acc: 0.7543 - val_loss: 0.5423 - val_acc: 0.8329\n",
      "\n",
      "Epoch 00035: val_loss did not improve from 0.53865\n",
      "Epoch 36/100\n",
      "6985/6985 [==============================] - 1s 184us/step - loss: 0.6891 - acc: 0.7659 - val_loss: 0.5270 - val_acc: 0.8300\n",
      "\n",
      "Epoch 00036: val_loss improved from 0.53865 to 0.52701, saving model to saved_models/weights.best.basic_mlp.hdf5\n",
      "Epoch 37/100\n",
      "6985/6985 [==============================] - 1s 183us/step - loss: 0.7066 - acc: 0.7569 - val_loss: 0.5403 - val_acc: 0.8288\n",
      "\n",
      "Epoch 00037: val_loss did not improve from 0.52701\n",
      "Epoch 38/100\n",
      "6985/6985 [==============================] - 1s 184us/step - loss: 0.6981 - acc: 0.7645 - val_loss: 0.5496 - val_acc: 0.8392\n",
      "\n",
      "Epoch 00038: val_loss did not improve from 0.52701\n",
      "Epoch 39/100\n",
      "6985/6985 [==============================] - 1s 182us/step - loss: 0.7007 - acc: 0.7707 - val_loss: 0.5338 - val_acc: 0.8454\n",
      "\n",
      "Epoch 00039: val_loss did not improve from 0.52701\n",
      "Epoch 40/100\n",
      "6985/6985 [==============================] - 1s 186us/step - loss: 0.6736 - acc: 0.7662 - val_loss: 0.5180 - val_acc: 0.8426\n",
      "\n",
      "Epoch 00040: val_loss improved from 0.52701 to 0.51798, saving model to saved_models/weights.best.basic_mlp.hdf5\n",
      "Epoch 41/100\n",
      "6985/6985 [==============================] - 1s 182us/step - loss: 0.6885 - acc: 0.7676 - val_loss: 0.5114 - val_acc: 0.8454\n",
      "\n",
      "Epoch 00041: val_loss improved from 0.51798 to 0.51137, saving model to saved_models/weights.best.basic_mlp.hdf5\n",
      "Epoch 42/100\n",
      "6985/6985 [==============================] - 1s 190us/step - loss: 0.6838 - acc: 0.7758 - val_loss: 0.5385 - val_acc: 0.8346\n",
      "\n",
      "Epoch 00042: val_loss did not improve from 0.51137\n",
      "Epoch 43/100\n",
      "6985/6985 [==============================] - 1s 187us/step - loss: 0.6794 - acc: 0.7684 - val_loss: 0.5333 - val_acc: 0.8454\n",
      "\n",
      "Epoch 00043: val_loss did not improve from 0.51137\n",
      "Epoch 44/100\n",
      "6985/6985 [==============================] - 1s 192us/step - loss: 0.6605 - acc: 0.7817 - val_loss: 0.5032 - val_acc: 0.8454\n",
      "\n",
      "Epoch 00044: val_loss improved from 0.51137 to 0.50322, saving model to saved_models/weights.best.basic_mlp.hdf5\n",
      "Epoch 45/100\n",
      "6985/6985 [==============================] - 1s 193us/step - loss: 0.6753 - acc: 0.7729 - val_loss: 0.4848 - val_acc: 0.8477\n",
      "\n",
      "Epoch 00045: val_loss improved from 0.50322 to 0.48476, saving model to saved_models/weights.best.basic_mlp.hdf5\n",
      "Epoch 46/100\n",
      "6985/6985 [==============================] - 1s 190us/step - loss: 0.6622 - acc: 0.7658 - val_loss: 0.5163 - val_acc: 0.8414\n",
      "\n",
      "Epoch 00046: val_loss did not improve from 0.48476\n",
      "Epoch 47/100\n",
      "6985/6985 [==============================] - 1s 167us/step - loss: 0.6518 - acc: 0.7802 - val_loss: 0.4980 - val_acc: 0.8472\n",
      "\n",
      "Epoch 00047: val_loss did not improve from 0.48476\n",
      "Epoch 48/100\n",
      "6985/6985 [==============================] - 1s 175us/step - loss: 0.6535 - acc: 0.7757 - val_loss: 0.4982 - val_acc: 0.8443\n",
      "\n",
      "Epoch 00048: val_loss did not improve from 0.48476\n",
      "Epoch 49/100\n",
      "6985/6985 [==============================] - 1s 185us/step - loss: 0.6654 - acc: 0.7754 - val_loss: 0.5013 - val_acc: 0.8489\n",
      "\n",
      "Epoch 00049: val_loss did not improve from 0.48476\n",
      "Epoch 50/100\n",
      "6985/6985 [==============================] - 1s 170us/step - loss: 0.6270 - acc: 0.7877 - val_loss: 0.4646 - val_acc: 0.8517\n",
      "\n",
      "Epoch 00050: val_loss improved from 0.48476 to 0.46457, saving model to saved_models/weights.best.basic_mlp.hdf5\n",
      "Epoch 51/100\n",
      "6985/6985 [==============================] - 1s 174us/step - loss: 0.6261 - acc: 0.7883 - val_loss: 0.4989 - val_acc: 0.8449\n",
      "\n",
      "Epoch 00051: val_loss did not improve from 0.46457\n",
      "Epoch 52/100\n",
      "6985/6985 [==============================] - 1s 165us/step - loss: 0.6433 - acc: 0.7841 - val_loss: 0.4902 - val_acc: 0.8432\n",
      "\n",
      "Epoch 00052: val_loss did not improve from 0.46457\n",
      "Epoch 53/100\n",
      "6985/6985 [==============================] - 1s 172us/step - loss: 0.6224 - acc: 0.7918 - val_loss: 0.4802 - val_acc: 0.8569\n",
      "\n",
      "Epoch 00053: val_loss did not improve from 0.46457\n",
      "Epoch 54/100\n",
      "6985/6985 [==============================] - 1s 168us/step - loss: 0.6331 - acc: 0.7860 - val_loss: 0.4851 - val_acc: 0.8569\n",
      "\n",
      "Epoch 00054: val_loss did not improve from 0.46457\n",
      "Epoch 55/100\n",
      "6985/6985 [==============================] - 1s 174us/step - loss: 0.6185 - acc: 0.7911 - val_loss: 0.4826 - val_acc: 0.8586\n",
      "\n",
      "Epoch 00055: val_loss did not improve from 0.46457\n",
      "Epoch 56/100\n",
      "6985/6985 [==============================] - 1s 175us/step - loss: 0.6013 - acc: 0.7916 - val_loss: 0.4798 - val_acc: 0.8500\n",
      "\n",
      "Epoch 00056: val_loss did not improve from 0.46457\n",
      "Epoch 57/100\n",
      "6985/6985 [==============================] - 1s 175us/step - loss: 0.6224 - acc: 0.7897 - val_loss: 0.4690 - val_acc: 0.8580\n",
      "\n",
      "Epoch 00057: val_loss did not improve from 0.46457\n",
      "Epoch 58/100\n",
      "6985/6985 [==============================] - 1s 172us/step - loss: 0.6232 - acc: 0.7913 - val_loss: 0.4965 - val_acc: 0.8592\n",
      "\n",
      "Epoch 00058: val_loss did not improve from 0.46457\n",
      "Epoch 59/100\n",
      "6985/6985 [==============================] - 1s 175us/step - loss: 0.5973 - acc: 0.7971 - val_loss: 0.4741 - val_acc: 0.8655\n",
      "\n",
      "Epoch 00059: val_loss did not improve from 0.46457\n",
      "Epoch 60/100\n",
      "6985/6985 [==============================] - 1s 173us/step - loss: 0.5758 - acc: 0.8023 - val_loss: 0.4917 - val_acc: 0.8535\n",
      "\n",
      "Epoch 00060: val_loss did not improve from 0.46457\n",
      "Epoch 61/100\n",
      "6985/6985 [==============================] - 1s 169us/step - loss: 0.5780 - acc: 0.8023 - val_loss: 0.4743 - val_acc: 0.8540\n",
      "\n",
      "Epoch 00061: val_loss did not improve from 0.46457\n",
      "Epoch 62/100\n",
      "6985/6985 [==============================] - 1s 172us/step - loss: 0.6033 - acc: 0.7966 - val_loss: 0.4865 - val_acc: 0.8552\n",
      "\n",
      "Epoch 00062: val_loss did not improve from 0.46457\n",
      "Epoch 63/100\n",
      "6985/6985 [==============================] - 1s 169us/step - loss: 0.5889 - acc: 0.8010 - val_loss: 0.4733 - val_acc: 0.8695\n",
      "\n",
      "Epoch 00063: val_loss did not improve from 0.46457\n",
      "Epoch 64/100\n",
      "6985/6985 [==============================] - 1s 169us/step - loss: 0.6002 - acc: 0.8030 - val_loss: 0.4510 - val_acc: 0.8626\n",
      "\n",
      "Epoch 00064: val_loss improved from 0.46457 to 0.45100, saving model to saved_models/weights.best.basic_mlp.hdf5\n",
      "Epoch 65/100\n",
      "6985/6985 [==============================] - 1s 171us/step - loss: 0.5982 - acc: 0.8004 - val_loss: 0.4785 - val_acc: 0.8603\n",
      "\n",
      "Epoch 00065: val_loss did not improve from 0.45100\n",
      "Epoch 66/100\n",
      "6985/6985 [==============================] - 1s 169us/step - loss: 0.5929 - acc: 0.8064 - val_loss: 0.4874 - val_acc: 0.8558\n",
      "\n",
      "Epoch 00066: val_loss did not improve from 0.45100\n",
      "Epoch 67/100\n",
      "6985/6985 [==============================] - 1s 181us/step - loss: 0.5979 - acc: 0.8003 - val_loss: 0.4498 - val_acc: 0.8626\n",
      "\n",
      "Epoch 00067: val_loss improved from 0.45100 to 0.44980, saving model to saved_models/weights.best.basic_mlp.hdf5\n",
      "Epoch 68/100\n",
      "6985/6985 [==============================] - 1s 176us/step - loss: 0.5766 - acc: 0.8059 - val_loss: 0.4819 - val_acc: 0.8558\n",
      "\n",
      "Epoch 00068: val_loss did not improve from 0.44980\n",
      "Epoch 69/100\n",
      "6985/6985 [==============================] - 1s 186us/step - loss: 0.5871 - acc: 0.8023 - val_loss: 0.4715 - val_acc: 0.8724\n",
      "\n",
      "Epoch 00069: val_loss did not improve from 0.44980\n",
      "Epoch 70/100\n",
      "6985/6985 [==============================] - 1s 174us/step - loss: 0.5741 - acc: 0.8119 - val_loss: 0.4513 - val_acc: 0.8661\n",
      "\n",
      "Epoch 00070: val_loss did not improve from 0.44980\n",
      "Epoch 71/100\n",
      "6985/6985 [==============================] - 1s 180us/step - loss: 0.5686 - acc: 0.8103 - val_loss: 0.4525 - val_acc: 0.8712\n",
      "\n",
      "Epoch 00071: val_loss did not improve from 0.44980\n",
      "Epoch 72/100\n",
      "6985/6985 [==============================] - 1s 184us/step - loss: 0.5799 - acc: 0.8030 - val_loss: 0.4495 - val_acc: 0.8746\n",
      "\n",
      "Epoch 00072: val_loss improved from 0.44980 to 0.44946, saving model to saved_models/weights.best.basic_mlp.hdf5\n",
      "Epoch 73/100\n",
      "6985/6985 [==============================] - 1s 179us/step - loss: 0.5586 - acc: 0.8087 - val_loss: 0.4382 - val_acc: 0.8769\n",
      "\n",
      "Epoch 00073: val_loss improved from 0.44946 to 0.43818, saving model to saved_models/weights.best.basic_mlp.hdf5\n",
      "Epoch 74/100\n",
      "6985/6985 [==============================] - 1s 194us/step - loss: 0.5670 - acc: 0.8073 - val_loss: 0.4339 - val_acc: 0.8741\n",
      "\n",
      "Epoch 00074: val_loss improved from 0.43818 to 0.43385, saving model to saved_models/weights.best.basic_mlp.hdf5\n"
     ]
    },
    {
     "name": "stdout",
     "output_type": "stream",
     "text": [
      "Epoch 75/100\n",
      "6985/6985 [==============================] - 1s 188us/step - loss: 0.5722 - acc: 0.8063 - val_loss: 0.4436 - val_acc: 0.8775\n",
      "\n",
      "Epoch 00075: val_loss did not improve from 0.43385\n",
      "Epoch 76/100\n",
      "6985/6985 [==============================] - 1s 174us/step - loss: 0.5555 - acc: 0.8112 - val_loss: 0.4419 - val_acc: 0.8775\n",
      "\n",
      "Epoch 00076: val_loss did not improve from 0.43385\n",
      "Epoch 77/100\n",
      "6985/6985 [==============================] - 1s 191us/step - loss: 0.5636 - acc: 0.8133 - val_loss: 0.4610 - val_acc: 0.8592\n",
      "\n",
      "Epoch 00077: val_loss did not improve from 0.43385\n",
      "Epoch 78/100\n",
      "6985/6985 [==============================] - 1s 185us/step - loss: 0.5760 - acc: 0.8011 - val_loss: 0.4411 - val_acc: 0.8712\n",
      "\n",
      "Epoch 00078: val_loss did not improve from 0.43385\n",
      "Epoch 79/100\n",
      "6985/6985 [==============================] - 1s 176us/step - loss: 0.5422 - acc: 0.8120 - val_loss: 0.4412 - val_acc: 0.8769\n",
      "\n",
      "Epoch 00079: val_loss did not improve from 0.43385\n",
      "Epoch 80/100\n",
      "6985/6985 [==============================] - 1s 187us/step - loss: 0.5588 - acc: 0.8110 - val_loss: 0.4365 - val_acc: 0.8724\n",
      "\n",
      "Epoch 00080: val_loss did not improve from 0.43385\n",
      "Epoch 81/100\n",
      "6985/6985 [==============================] - ETA: 0s - loss: 0.5617 - acc: 0.809 - 1s 177us/step - loss: 0.5638 - acc: 0.8087 - val_loss: 0.4293 - val_acc: 0.8758\n",
      "\n",
      "Epoch 00081: val_loss improved from 0.43385 to 0.42935, saving model to saved_models/weights.best.basic_mlp.hdf5\n",
      "Epoch 82/100\n",
      "6985/6985 [==============================] - 1s 182us/step - loss: 0.5477 - acc: 0.8178 - val_loss: 0.4470 - val_acc: 0.8718\n",
      "\n",
      "Epoch 00082: val_loss did not improve from 0.42935\n",
      "Epoch 83/100\n",
      "6985/6985 [==============================] - 1s 185us/step - loss: 0.5483 - acc: 0.8210 - val_loss: 0.4514 - val_acc: 0.8683\n",
      "\n",
      "Epoch 00083: val_loss did not improve from 0.42935\n",
      "Epoch 84/100\n",
      "6985/6985 [==============================] - 1s 180us/step - loss: 0.5449 - acc: 0.8238 - val_loss: 0.4348 - val_acc: 0.8798\n",
      "\n",
      "Epoch 00084: val_loss did not improve from 0.42935\n",
      "Epoch 85/100\n",
      "6985/6985 [==============================] - 2s 220us/step - loss: 0.5178 - acc: 0.8286 - val_loss: 0.4453 - val_acc: 0.8781\n",
      "\n",
      "Epoch 00085: val_loss did not improve from 0.42935\n",
      "Epoch 86/100\n",
      "6985/6985 [==============================] - 1s 176us/step - loss: 0.5516 - acc: 0.8165 - val_loss: 0.4313 - val_acc: 0.8798\n",
      "\n",
      "Epoch 00086: val_loss did not improve from 0.42935\n",
      "Epoch 87/100\n",
      "6985/6985 [==============================] - 2s 234us/step - loss: 0.5278 - acc: 0.8216 - val_loss: 0.4577 - val_acc: 0.8626\n",
      "\n",
      "Epoch 00087: val_loss did not improve from 0.42935\n",
      "Epoch 88/100\n",
      "6985/6985 [==============================] - 1s 178us/step - loss: 0.5509 - acc: 0.8203 - val_loss: 0.4470 - val_acc: 0.8781\n",
      "\n",
      "Epoch 00088: val_loss did not improve from 0.42935\n",
      "Epoch 89/100\n",
      "6985/6985 [==============================] - 1s 188us/step - loss: 0.5499 - acc: 0.8189 - val_loss: 0.4360 - val_acc: 0.8729\n",
      "\n",
      "Epoch 00089: val_loss did not improve from 0.42935\n",
      "Epoch 90/100\n",
      "6985/6985 [==============================] - 1s 197us/step - loss: 0.5462 - acc: 0.8097 - val_loss: 0.4364 - val_acc: 0.8792\n",
      "\n",
      "Epoch 00090: val_loss did not improve from 0.42935\n",
      "Epoch 91/100\n",
      "6985/6985 [==============================] - 1s 181us/step - loss: 0.5218 - acc: 0.8239 - val_loss: 0.4479 - val_acc: 0.8718\n",
      "\n",
      "Epoch 00091: val_loss did not improve from 0.42935\n",
      "Epoch 92/100\n",
      "6985/6985 [==============================] - 1s 196us/step - loss: 0.5521 - acc: 0.8150 - val_loss: 0.4412 - val_acc: 0.8695\n",
      "\n",
      "Epoch 00092: val_loss did not improve from 0.42935\n",
      "Epoch 93/100\n",
      "6985/6985 [==============================] - 1s 194us/step - loss: 0.5187 - acc: 0.8269 - val_loss: 0.4388 - val_acc: 0.8718\n",
      "\n",
      "Epoch 00093: val_loss did not improve from 0.42935\n",
      "Epoch 94/100\n",
      "6985/6985 [==============================] - 1s 168us/step - loss: 0.5494 - acc: 0.8185 - val_loss: 0.4449 - val_acc: 0.8712\n",
      "\n",
      "Epoch 00094: val_loss did not improve from 0.42935\n",
      "Epoch 95/100\n",
      "6985/6985 [==============================] - 1s 174us/step - loss: 0.5139 - acc: 0.8286 - val_loss: 0.4513 - val_acc: 0.8718\n",
      "\n",
      "Epoch 00095: val_loss did not improve from 0.42935\n",
      "Epoch 96/100\n",
      "6985/6985 [==============================] - 1s 191us/step - loss: 0.5286 - acc: 0.8262 - val_loss: 0.4391 - val_acc: 0.8838\n",
      "\n",
      "Epoch 00096: val_loss did not improve from 0.42935\n",
      "Epoch 97/100\n",
      "6985/6985 [==============================] - 1s 158us/step - loss: 0.5253 - acc: 0.8258 - val_loss: 0.4349 - val_acc: 0.8809\n",
      "\n",
      "Epoch 00097: val_loss did not improve from 0.42935\n",
      "Epoch 98/100\n",
      "6985/6985 [==============================] - 1s 171us/step - loss: 0.5340 - acc: 0.8262 - val_loss: 0.4183 - val_acc: 0.8769\n",
      "\n",
      "Epoch 00098: val_loss improved from 0.42935 to 0.41827, saving model to saved_models/weights.best.basic_mlp.hdf5\n",
      "Epoch 99/100\n",
      "6985/6985 [==============================] - 1s 176us/step - loss: 0.5307 - acc: 0.8308 - val_loss: 0.4148 - val_acc: 0.8792\n",
      "\n",
      "Epoch 00099: val_loss improved from 0.41827 to 0.41475, saving model to saved_models/weights.best.basic_mlp.hdf5\n",
      "Epoch 100/100\n",
      "6985/6985 [==============================] - 1s 166us/step - loss: 0.5137 - acc: 0.8276 - val_loss: 0.4545 - val_acc: 0.8706\n",
      "\n",
      "Epoch 00100: val_loss did not improve from 0.41475\n",
      "Training completed in time:  0:02:11.559600\n"
     ]
    }
   ],
   "source": [
    "from keras.callbacks import ModelCheckpoint \n",
    "from datetime import datetime \n",
    "\n",
    "num_epochs = 100\n",
    "num_batch_size = 32\n",
    "\n",
    "checkpointer = ModelCheckpoint(filepath='saved_models/weights.best.basic_mlp.hdf5', \n",
    "                               verbose=1, save_best_only=True)\n",
    "start = datetime.now()\n",
    "\n",
    "model.fit(x_train, y_train, batch_size=num_batch_size, epochs=num_epochs, validation_data=(x_test, y_test), callbacks=[checkpointer], verbose=1)\n",
    "\n",
    "\n",
    "duration = datetime.now() - start\n",
    "print(\"Training completed in time: \", duration)"
   ]
  },
  {
   "cell_type": "markdown",
   "metadata": {},
   "source": [
    "### Test the model \n",
    "\n",
    "Here we will review the accuracy of the model on both the training and test data sets. "
   ]
  },
  {
   "cell_type": "code",
   "execution_count": 7,
   "metadata": {},
   "outputs": [
    {
     "name": "stdout",
     "output_type": "stream",
     "text": [
      "Training Accuracy:  0.9224051539012169\n",
      "Testing Accuracy:  0.8706353747578573\n"
     ]
    }
   ],
   "source": [
    "# Evaluating the model on the training and testing set\n",
    "score = model.evaluate(x_train, y_train, verbose=0)\n",
    "print(\"Training Accuracy: \", score[1])\n",
    "\n",
    "score = model.evaluate(x_test, y_test, verbose=0)\n",
    "print(\"Testing Accuracy: \", score[1])"
   ]
  },
  {
   "cell_type": "markdown",
   "metadata": {},
   "source": [
    "The initial Training and Testing accuracy scores are quite high. As there is not a great difference between the Training and Test scores (~5%) this suggests that the model has not suffered from overfitting. "
   ]
  },
  {
   "cell_type": "markdown",
   "metadata": {},
   "source": [
    "### Predictions  \n",
    "\n",
    "Here we will build a method which will allow us to test the models predictions on a specified audio .wav file. "
   ]
  },
  {
   "cell_type": "code",
   "execution_count": 8,
   "metadata": {},
   "outputs": [],
   "source": [
    "import librosa \n",
    "import numpy as np \n",
    "\n",
    "def extract_feature(file_name):\n",
    "   \n",
    "    try:\n",
    "        audio_data, sample_rate = librosa.load(file_name, res_type='kaiser_fast') \n",
    "        mfccs = librosa.feature.mfcc(y=audio_data, sr=sample_rate, n_mfcc=40)\n",
    "        mfccsscaled = np.mean(mfccs.T,axis=0)\n",
    "        \n",
    "    except Exception as e:\n",
    "        print(\"Error encountered while parsing file: \", file)\n",
    "        return None, None\n",
    "\n",
    "    return np.array([mfccsscaled])\n"
   ]
  },
  {
   "cell_type": "code",
   "execution_count": 9,
   "metadata": {},
   "outputs": [],
   "source": [
    "def print_prediction(file_name):\n",
    "    prediction_feature = extract_feature(file_name) \n",
    "\n",
    "    predicted_vector = model.predict_classes(prediction_feature)\n",
    "    predicted_class = le.inverse_transform(predicted_vector) \n",
    "    print(\"The predicted class is:\", predicted_class[0], '\\n') \n",
    "\n",
    "    predicted_proba_vector = model.predict_proba(prediction_feature) \n",
    "    predicted_proba = predicted_proba_vector[0]\n",
    "    for i in range(len(predicted_proba)): \n",
    "        category = le.inverse_transform(np.array([i]))\n",
    "        print(category[0], \"\\t\\t : \", format(predicted_proba[i], '.32f') )"
   ]
  },
  {
   "cell_type": "markdown",
   "metadata": {},
   "source": [
    "### Validation \n",
    "\n",
    "#### Test with sample data \n",
    "\n",
    "Initial sainity check to verify the predictions using a subsection of the sample audio files we explored in the first notebook. We expect the bulk of these to be classified correctly. "
   ]
  },
  {
   "cell_type": "code",
   "execution_count": 10,
   "metadata": {},
   "outputs": [
    {
     "name": "stdout",
     "output_type": "stream",
     "text": [
      "The predicted class is: air_conditioner \n",
      "\n",
      "air_conditioner \t\t :  1.00000000000000000000000000000000\n",
      "car_horn \t\t :  0.00000000182134674009404307071236\n",
      "children_playing \t\t :  0.00000000041144126994296925659000\n",
      "dog_bark \t\t :  0.00000000061322580346967470177333\n",
      "drilling \t\t :  0.00000000941181177438465965678915\n",
      "engine_idling \t\t :  0.00000000507990716158701616222970\n",
      "gun_shot \t\t :  0.00000002270654420044593280181289\n",
      "jackhammer \t\t :  0.00000000630761709530247571819928\n",
      "siren \t\t :  0.00000000000407049394191005831090\n",
      "street_music \t\t :  0.00000000180346781952778201230103\n"
     ]
    }
   ],
   "source": [
    "# Class: Air Conditioner\n",
    "\n",
    "filename = '../UrbanSound Dataset sample/audio/100852-0-0-0.wav' \n",
    "print_prediction(filename) "
   ]
  },
  {
   "cell_type": "code",
   "execution_count": 11,
   "metadata": {
    "scrolled": true
   },
   "outputs": [
    {
     "name": "stdout",
     "output_type": "stream",
     "text": [
      "The predicted class is: drilling \n",
      "\n",
      "air_conditioner \t\t :  0.00000001935946869480176246725023\n",
      "car_horn \t\t :  0.00000218180412048241123557090759\n",
      "children_playing \t\t :  0.00019900461484212428331375122070\n",
      "dog_bark \t\t :  0.00013779639266431331634521484375\n",
      "drilling \t\t :  0.96273481845855712890625000000000\n",
      "engine_idling \t\t :  0.00000000027262900270663692481321\n",
      "gun_shot \t\t :  0.00000028573904842232877854257822\n",
      "jackhammer \t\t :  0.00000000101177721756329219715553\n",
      "siren \t\t :  0.00000013746632987476914422586560\n",
      "street_music \t\t :  0.03692576289176940917968750000000\n"
     ]
    }
   ],
   "source": [
    "# Class: Drilling\n",
    "\n",
    "filename = '../UrbanSound Dataset sample/audio/103199-4-0-0.wav'\n",
    "print_prediction(filename) "
   ]
  },
  {
   "cell_type": "code",
   "execution_count": 12,
   "metadata": {},
   "outputs": [
    {
     "name": "stdout",
     "output_type": "stream",
     "text": [
      "The predicted class is: street_music \n",
      "\n",
      "air_conditioner \t\t :  0.10584083944559097290039062500000\n",
      "car_horn \t\t :  0.00018762476975098252296447753906\n",
      "children_playing \t\t :  0.13765451312065124511718750000000\n",
      "dog_bark \t\t :  0.00338348606601357460021972656250\n",
      "drilling \t\t :  0.00505320308730006217956542968750\n",
      "engine_idling \t\t :  0.00413546431809663772583007812500\n",
      "gun_shot \t\t :  0.00065159739460796117782592773438\n",
      "jackhammer \t\t :  0.06000141054391860961914062500000\n",
      "siren \t\t :  0.00078313960693776607513427734375\n",
      "street_music \t\t :  0.68230873346328735351562500000000\n"
     ]
    }
   ],
   "source": [
    "# Class: Street music \n",
    "\n",
    "filename = '../UrbanSound Dataset sample/audio/101848-9-0-0.wav'\n",
    "print_prediction(filename) "
   ]
  },
  {
   "cell_type": "code",
   "execution_count": 13,
   "metadata": {},
   "outputs": [
    {
     "name": "stdout",
     "output_type": "stream",
     "text": [
      "The predicted class is: car_horn \n",
      "\n",
      "air_conditioner \t\t :  0.00003582690260373055934906005859\n",
      "car_horn \t\t :  0.69806337356567382812500000000000\n",
      "children_playing \t\t :  0.00917035806924104690551757812500\n",
      "dog_bark \t\t :  0.10445753484964370727539062500000\n",
      "drilling \t\t :  0.04047197476029396057128906250000\n",
      "engine_idling \t\t :  0.00021504548203665763139724731445\n",
      "gun_shot \t\t :  0.00431029032915830612182617187500\n",
      "jackhammer \t\t :  0.00004849451215704903006553649902\n",
      "siren \t\t :  0.00646105315536260604858398437500\n",
      "street_music \t\t :  0.13676603138446807861328125000000\n"
     ]
    }
   ],
   "source": [
    "# Class: Car Horn \n",
    "\n",
    "filename = '../UrbanSound Dataset sample/audio/100648-1-0-0.wav'\n",
    "print_prediction(filename) "
   ]
  },
  {
   "cell_type": "markdown",
   "metadata": {},
   "source": [
    "#### Observations \n",
    "\n",
    "From this brief sanity check the model seems to predict well. One errror was observed whereby a car horn was incorrectly classifed as a dog bark. \n",
    "\n",
    "We can see from the per class confidence that this was quite a low score (43%). This allows follows our early observation that a dog bark and car horn are similar in spectral shape. "
   ]
  },
  {
   "cell_type": "markdown",
   "metadata": {},
   "source": [
    "### Other audio\n",
    "\n",
    "Here we will use a sample of various copyright free sounds that we not part of either our test or training data to further validate our model. "
   ]
  },
  {
   "cell_type": "code",
   "execution_count": 14,
   "metadata": {},
   "outputs": [
    {
     "name": "stdout",
     "output_type": "stream",
     "text": [
      "The predicted class is: street_music \n",
      "\n",
      "air_conditioner \t\t :  0.05818969756364822387695312500000\n",
      "car_horn \t\t :  0.03274155780673027038574218750000\n",
      "children_playing \t\t :  0.05405837669968605041503906250000\n",
      "dog_bark \t\t :  0.20545622706413269042968750000000\n",
      "drilling \t\t :  0.07921151816844940185546875000000\n",
      "engine_idling \t\t :  0.04908233135938644409179687500000\n",
      "gun_shot \t\t :  0.11350615322589874267578125000000\n",
      "jackhammer \t\t :  0.00165486067999154329299926757812\n",
      "siren \t\t :  0.04985950142145156860351562500000\n",
      "street_music \t\t :  0.35623976588249206542968750000000\n"
     ]
    }
   ],
   "source": [
    "filename = '../Evaluation audio/dog_bark_1.wav'\n",
    "print_prediction(filename) "
   ]
  },
  {
   "cell_type": "code",
   "execution_count": 15,
   "metadata": {
    "scrolled": true
   },
   "outputs": [
    {
     "name": "stdout",
     "output_type": "stream",
     "text": [
      "The predicted class is: jackhammer \n",
      "\n",
      "air_conditioner \t\t :  0.07550714164972305297851562500000\n",
      "car_horn \t\t :  0.00001126918505178764462471008301\n",
      "children_playing \t\t :  0.00064183131325989961624145507812\n",
      "dog_bark \t\t :  0.00001621937917661853134632110596\n",
      "drilling \t\t :  0.06308306008577346801757812500000\n",
      "engine_idling \t\t :  0.00002552934893174096941947937012\n",
      "gun_shot \t\t :  0.00068845611531287431716918945312\n",
      "jackhammer \t\t :  0.85967862606048583984375000000000\n",
      "siren \t\t :  0.00001200279439217410981655120850\n",
      "street_music \t\t :  0.00033594679553061723709106445312\n"
     ]
    }
   ],
   "source": [
    "filename = '../Evaluation audio/drilling_1.wav'\n",
    "\n",
    "print_prediction(filename) "
   ]
  },
  {
   "cell_type": "code",
   "execution_count": 16,
   "metadata": {},
   "outputs": [
    {
     "name": "stdout",
     "output_type": "stream",
     "text": [
      "The predicted class is: dog_bark \n",
      "\n",
      "air_conditioner \t\t :  0.10839908570051193237304687500000\n",
      "car_horn \t\t :  0.00103239156305789947509765625000\n",
      "children_playing \t\t :  0.01060478202998638153076171875000\n",
      "dog_bark \t\t :  0.41838169097900390625000000000000\n",
      "drilling \t\t :  0.00799924135208129882812500000000\n",
      "engine_idling \t\t :  0.04500160366296768188476562500000\n",
      "gun_shot \t\t :  0.01085520256310701370239257812500\n",
      "jackhammer \t\t :  0.00033229021937586367130279541016\n",
      "siren \t\t :  0.01738170534372329711914062500000\n",
      "street_music \t\t :  0.38001206517219543457031250000000\n"
     ]
    }
   ],
   "source": [
    "filename = '../Evaluation audio/gun_shot_1.wav'\n",
    "\n",
    "print_prediction(filename) \n",
    "\n",
    "# sample data weighted towards gun shot - peak in the dog barking sample is simmilar in shape to the gun shot sample"
   ]
  },
  {
   "cell_type": "code",
   "execution_count": 17,
   "metadata": {},
   "outputs": [
    {
     "name": "stdout",
     "output_type": "stream",
     "text": [
      "The predicted class is: siren \n",
      "\n",
      "air_conditioner \t\t :  0.00000062581676729678292758762836\n",
      "car_horn \t\t :  0.00006905255577294155955314636230\n",
      "children_playing \t\t :  0.00083423301111906766891479492188\n",
      "dog_bark \t\t :  0.04389220848679542541503906250000\n",
      "drilling \t\t :  0.00003940669557778164744377136230\n",
      "engine_idling \t\t :  0.06394499540328979492187500000000\n",
      "gun_shot \t\t :  0.00084809947293251752853393554688\n",
      "jackhammer \t\t :  0.00214644591324031352996826171875\n",
      "siren \t\t :  0.87295448780059814453125000000000\n",
      "street_music \t\t :  0.01527053117752075195312500000000\n"
     ]
    }
   ],
   "source": [
    "filename = '../Evaluation audio/siren_1.wav'\n",
    "\n",
    "print_prediction(filename) "
   ]
  },
  {
   "cell_type": "markdown",
   "metadata": {},
   "source": [
    "#### Observations \n",
    "\n",
    "The performance of our initial model is satisfactorry and has generalised well, seeming to predict well when tested against new audio data. "
   ]
  },
  {
   "cell_type": "markdown",
   "metadata": {},
   "source": [
    "### *In the next notebook we will refine our model*"
   ]
  }
 ],
 "metadata": {
  "kernelspec": {
   "display_name": "Python [conda env:root]",
   "language": "python",
   "name": "conda-root-py"
  },
  "language_info": {
   "codemirror_mode": {
    "name": "ipython",
    "version": 3
   },
   "file_extension": ".py",
   "mimetype": "text/x-python",
   "name": "python",
   "nbconvert_exporter": "python",
   "pygments_lexer": "ipython3",
   "version": "3.7.3"
  }
 },
 "nbformat": 4,
 "nbformat_minor": 2
}
