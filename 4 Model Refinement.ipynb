{
 "cells": [
  {
   "cell_type": "markdown",
   "metadata": {},
   "source": [
    "# Classifying Urban sounds using Deep Learning\n",
    "\n",
    "## 4 Model Refinement "
   ]
  },
  {
   "cell_type": "markdown",
   "metadata": {},
   "source": [
    "### Load Preprocessed data "
   ]
  },
  {
   "cell_type": "code",
   "execution_count": 1,
   "metadata": {},
   "outputs": [],
   "source": [
    "# retrieve the preprocessed data from previous notebook\n",
    "\n",
    "%store -r x_train \n",
    "%store -r x_test \n",
    "%store -r y_train \n",
    "%store -r y_test \n",
    "%store -r yy \n",
    "%store -r le"
   ]
  },
  {
   "cell_type": "markdown",
   "metadata": {},
   "source": [
    "#### Model refinement\n",
    "\n",
    "In our inital attempt, we were able to achieve a Classification Accuracy score of: \n",
    "\n",
    "* Training data Accuracy:  92.3% \n",
    "* Testing data Accuracy:  87% \n",
    "\n",
    "We will now see if we can improve upon that score using a Convolutional Neural Network (CNN). "
   ]
  },
  {
   "cell_type": "markdown",
   "metadata": {},
   "source": [
    "#### Feature Extraction refinement \n",
    "\n",
    "In the prevous feature extraction stage, the MFCC vectors would vary in size for the different audio files (depending on the samples duration). \n",
    "\n",
    "However, CNNs require a fixed size for all inputs. To overcome this we will zero pad the output vectors to make them all the same size. "
   ]
  },
  {
   "cell_type": "code",
   "execution_count": 2,
   "metadata": {},
   "outputs": [],
   "source": [
    "import numpy as np\n",
    "max_pad_len = 174\n",
    "\n",
    "def extract_features(file_name):\n",
    "   \n",
    "    try:\n",
    "        audio, sample_rate = librosa.load(file_name, res_type='kaiser_fast') \n",
    "        mfccs = librosa.feature.mfcc(y=audio, sr=sample_rate, n_mfcc=40)\n",
    "        pad_width = max_pad_len - mfccs.shape[1]\n",
    "        mfccs = np.pad(mfccs, pad_width=((0, 0), (0, pad_width)), mode='constant')\n",
    "        \n",
    "    except Exception as e:\n",
    "        print(\"Error encountered while parsing file: \", file_name)\n",
    "        return None \n",
    "     \n",
    "    return mfccs"
   ]
  },
  {
   "cell_type": "code",
   "execution_count": 3,
   "metadata": {},
   "outputs": [
    {
     "name": "stdout",
     "output_type": "stream",
     "text": [
      "Finished feature extraction from  8732  files\n"
     ]
    }
   ],
   "source": [
    "# Load various imports \n",
    "import pandas as pd\n",
    "import os\n",
    "import librosa\n",
    "\n",
    "# Set the path to the full UrbanSound dataset \n",
    "fulldatasetpath = '../UrbanSound8K/audio/'\n",
    "\n",
    "metadata = pd.read_csv('../UrbanSound Dataset sample/metadata/UrbanSound8K.csv')\n",
    "\n",
    "features = []\n",
    "\n",
    "# Iterate through each sound file and extract the features \n",
    "for index, row in metadata.iterrows():\n",
    "    \n",
    "    file_name = os.path.join(os.path.abspath(fulldatasetpath),'fold'+str(row[\"fold\"])+'/',str(row[\"slice_file_name\"]))\n",
    "    \n",
    "    class_label = row[\"class_name\"]\n",
    "    data = extract_features(file_name)\n",
    "    \n",
    "    features.append([data, class_label])\n",
    "\n",
    "# Convert into a Panda dataframe \n",
    "featuresdf = pd.DataFrame(features, columns=['feature','class_label'])\n",
    "\n",
    "print('Finished feature extraction from ', len(featuresdf), ' files') "
   ]
  },
  {
   "cell_type": "code",
   "execution_count": 4,
   "metadata": {},
   "outputs": [
    {
     "name": "stderr",
     "output_type": "stream",
     "text": [
      "Using TensorFlow backend.\n"
     ]
    }
   ],
   "source": [
    "from sklearn.preprocessing import LabelEncoder\n",
    "from keras.utils import to_categorical\n",
    "\n",
    "# Convert features and corresponding classification labels into numpy arrays\n",
    "X = np.array(featuresdf.feature.tolist())\n",
    "y = np.array(featuresdf.class_label.tolist())\n",
    "\n",
    "# Encode the classification labels\n",
    "le = LabelEncoder()\n",
    "yy = to_categorical(le.fit_transform(y)) \n",
    "\n",
    "# split the dataset \n",
    "from sklearn.model_selection import train_test_split \n",
    "\n",
    "x_train, x_test, y_train, y_test = train_test_split(X, yy, test_size=0.2, random_state = 42)"
   ]
  },
  {
   "cell_type": "markdown",
   "metadata": {},
   "source": [
    "### Convolutional Neural Network (CNN) model architecture \n",
    "\n",
    "\n",
    "We will modify our model to be a Convolutional Neural Network (CNN) again using Keras and a Tensorflow backend. \n",
    "\n",
    "Again we will use a `sequential` model, starting with a simple model architecture, consisting of four `Conv2D` convolution layers, with our final output layer being a `dense` layer. \n",
    "\n",
    "The convolution layers are designed for feature detection. It works by sliding a filter window over the input and performing a matrix multiplication and storing the result in a feature map. This operation is known as a convolution. \n",
    "\n",
    "\n",
    "The `filter` parameter specifies the number of nodes in each layer. Each layer will increase in size from 16, 32, 64 to 128, while the `kernel_size` parameter specifies the size of the kernel window which in this case is 2 resulting in a 2x2 filter matrix. \n",
    "\n",
    "The first layer will receive the input shape of (40, 174, 1) where 40 is the number of MFCC's 174 is the number of frames taking padding into account and the 1 signifying that the audio is mono. \n",
    "\n",
    "The activation function we will be using for our convolutional layers is `ReLU` which is the same as our previous model. We will use a smaller `Dropout` value of 20% on our convolutional layers. \n",
    "\n",
    "Each convolutional layer has an associated pooling layer of `MaxPooling2D` type with the final convolutional layer having a `GlobalAveragePooling2D` type. The pooling layer is do reduce the dimensionality of the model (by reducing the parameters and subsquent computation requirements) which serves to shorten the training time and reduce overfitting. The Max Pooling type takes the maximum size for each window and the Global Average Pooling type takes the average which is suitable for feeding into our `dense` output layer.  \n",
    "\n",
    "Our output layer will have 10 nodes (num_labels) which matches the number of possible classifications. The activation is for our output layer is `softmax`. Softmax makes the output sum up to 1 so the output can be interpreted as probabilities. The model will then make its prediction based on which option has the highest probability."
   ]
  },
  {
   "cell_type": "code",
   "execution_count": 2,
   "metadata": {},
   "outputs": [
    {
     "name": "stderr",
     "output_type": "stream",
     "text": [
      "Using TensorFlow backend.\n"
     ]
    },
    {
     "ename": "ValueError",
     "evalue": "cannot reshape array of size 279400 into shape (6985,40,174,1)",
     "output_type": "error",
     "traceback": [
      "\u001b[1;31m---------------------------------------------------------------------------\u001b[0m",
      "\u001b[1;31mValueError\u001b[0m                                Traceback (most recent call last)",
      "\u001b[1;32m<ipython-input-2-05f19d917ee1>\u001b[0m in \u001b[0;36m<module>\u001b[1;34m\u001b[0m\n\u001b[0;32m     11\u001b[0m \u001b[0mnum_channels\u001b[0m \u001b[1;33m=\u001b[0m \u001b[1;36m1\u001b[0m\u001b[1;33m\u001b[0m\u001b[1;33m\u001b[0m\u001b[0m\n\u001b[0;32m     12\u001b[0m \u001b[1;33m\u001b[0m\u001b[0m\n\u001b[1;32m---> 13\u001b[1;33m \u001b[0mx_train\u001b[0m \u001b[1;33m=\u001b[0m \u001b[0mx_train\u001b[0m\u001b[1;33m.\u001b[0m\u001b[0mreshape\u001b[0m\u001b[1;33m(\u001b[0m\u001b[0mx_train\u001b[0m\u001b[1;33m.\u001b[0m\u001b[0mshape\u001b[0m\u001b[1;33m[\u001b[0m\u001b[1;36m0\u001b[0m\u001b[1;33m]\u001b[0m\u001b[1;33m,\u001b[0m \u001b[0mnum_rows\u001b[0m\u001b[1;33m,\u001b[0m \u001b[0mnum_columns\u001b[0m\u001b[1;33m,\u001b[0m \u001b[0mnum_channels\u001b[0m\u001b[1;33m)\u001b[0m\u001b[1;33m\u001b[0m\u001b[1;33m\u001b[0m\u001b[0m\n\u001b[0m\u001b[0;32m     14\u001b[0m \u001b[0mx_test\u001b[0m \u001b[1;33m=\u001b[0m \u001b[0mx_test\u001b[0m\u001b[1;33m.\u001b[0m\u001b[0mreshape\u001b[0m\u001b[1;33m(\u001b[0m\u001b[0mx_test\u001b[0m\u001b[1;33m.\u001b[0m\u001b[0mshape\u001b[0m\u001b[1;33m[\u001b[0m\u001b[1;36m0\u001b[0m\u001b[1;33m]\u001b[0m\u001b[1;33m,\u001b[0m \u001b[0mnum_rows\u001b[0m\u001b[1;33m,\u001b[0m \u001b[0mnum_columns\u001b[0m\u001b[1;33m,\u001b[0m \u001b[0mnum_channels\u001b[0m\u001b[1;33m)\u001b[0m\u001b[1;33m\u001b[0m\u001b[1;33m\u001b[0m\u001b[0m\n\u001b[0;32m     15\u001b[0m \u001b[1;33m\u001b[0m\u001b[0m\n",
      "\u001b[1;31mValueError\u001b[0m: cannot reshape array of size 279400 into shape (6985,40,174,1)"
     ]
    }
   ],
   "source": [
    "import numpy as np\n",
    "from keras.models import Sequential\n",
    "from keras.layers import Dense, Dropout, Activation, Flatten\n",
    "from keras.layers import Convolution2D, Conv2D, MaxPooling2D, GlobalAveragePooling2D\n",
    "from keras.optimizers import Adam\n",
    "from keras.utils import np_utils\n",
    "from sklearn import metrics \n",
    "\n",
    "num_rows = 40\n",
    "num_columns = 174\n",
    "num_channels = 1\n",
    "\n",
    "x_train = x_train.reshape(x_train.shape[0], num_rows, num_columns, num_channels)\n",
    "x_test = x_test.reshape(x_test.shape[0], num_rows, num_columns, num_channels)\n",
    "\n",
    "num_labels = yy.shape[1]\n",
    "filter_size = 2\n",
    "\n",
    "# Construct model \n",
    "model = Sequential()\n",
    "model.add(Conv2D(filters=16, kernel_size=2, input_shape=(num_rows, num_columns, num_channels), activation='relu'))\n",
    "model.add(MaxPooling2D(pool_size=2))\n",
    "model.add(Dropout(0.2))\n",
    "\n",
    "model.add(Conv2D(filters=32, kernel_size=2, activation='relu'))\n",
    "model.add(MaxPooling2D(pool_size=2))\n",
    "model.add(Dropout(0.2))\n",
    "\n",
    "model.add(Conv2D(filters=64, kernel_size=2, activation='relu'))\n",
    "model.add(MaxPooling2D(pool_size=2))\n",
    "model.add(Dropout(0.2))\n",
    "\n",
    "model.add(Conv2D(filters=128, kernel_size=2, activation='relu'))\n",
    "model.add(MaxPooling2D(pool_size=2))\n",
    "model.add(Dropout(0.2))\n",
    "model.add(GlobalAveragePooling2D())\n",
    "\n",
    "model.add(Dense(num_labels, activation='softmax')) "
   ]
  },
  {
   "cell_type": "markdown",
   "metadata": {},
   "source": [
    "### Compiling the model \n",
    "\n",
    "For compiling our model, we will use the same three parameters as the previous model: "
   ]
  },
  {
   "cell_type": "code",
   "execution_count": 6,
   "metadata": {},
   "outputs": [
    {
     "name": "stderr",
     "output_type": "stream",
     "text": [
      "W0726 15:41:00.977357 16336 deprecation_wrapper.py:119] From C:\\Users\\steph\\Anaconda\\lib\\site-packages\\keras\\optimizers.py:790: The name tf.train.Optimizer is deprecated. Please use tf.compat.v1.train.Optimizer instead.\n",
      "\n",
      "W0726 15:41:01.024635 16336 deprecation_wrapper.py:119] From C:\\Users\\steph\\Anaconda\\lib\\site-packages\\keras\\backend\\tensorflow_backend.py:3295: The name tf.log is deprecated. Please use tf.math.log instead.\n",
      "\n"
     ]
    }
   ],
   "source": [
    "# Compile the model\n",
    "model.compile(loss='categorical_crossentropy', metrics=['accuracy'], optimizer='adam') "
   ]
  },
  {
   "cell_type": "code",
   "execution_count": 7,
   "metadata": {},
   "outputs": [
    {
     "name": "stdout",
     "output_type": "stream",
     "text": [
      "_________________________________________________________________\n",
      "Layer (type)                 Output Shape              Param #   \n",
      "=================================================================\n",
      "conv2d_1 (Conv2D)            (None, 39, 173, 16)       80        \n",
      "_________________________________________________________________\n",
      "max_pooling2d_1 (MaxPooling2 (None, 19, 86, 16)        0         \n",
      "_________________________________________________________________\n",
      "dropout_1 (Dropout)          (None, 19, 86, 16)        0         \n",
      "_________________________________________________________________\n",
      "conv2d_2 (Conv2D)            (None, 18, 85, 32)        2080      \n",
      "_________________________________________________________________\n",
      "max_pooling2d_2 (MaxPooling2 (None, 9, 42, 32)         0         \n",
      "_________________________________________________________________\n",
      "dropout_2 (Dropout)          (None, 9, 42, 32)         0         \n",
      "_________________________________________________________________\n",
      "conv2d_3 (Conv2D)            (None, 8, 41, 64)         8256      \n",
      "_________________________________________________________________\n",
      "max_pooling2d_3 (MaxPooling2 (None, 4, 20, 64)         0         \n",
      "_________________________________________________________________\n",
      "dropout_3 (Dropout)          (None, 4, 20, 64)         0         \n",
      "_________________________________________________________________\n",
      "conv2d_4 (Conv2D)            (None, 3, 19, 128)        32896     \n",
      "_________________________________________________________________\n",
      "max_pooling2d_4 (MaxPooling2 (None, 1, 9, 128)         0         \n",
      "_________________________________________________________________\n",
      "dropout_4 (Dropout)          (None, 1, 9, 128)         0         \n",
      "_________________________________________________________________\n",
      "global_average_pooling2d_1 ( (None, 128)               0         \n",
      "_________________________________________________________________\n",
      "dense_1 (Dense)              (None, 10)                1290      \n",
      "=================================================================\n",
      "Total params: 44,602\n",
      "Trainable params: 44,602\n",
      "Non-trainable params: 0\n",
      "_________________________________________________________________\n",
      "1747/1747 [==============================] - 4s 2ms/step\n",
      "Pre-training accuracy: 8.5861%\n"
     ]
    }
   ],
   "source": [
    "# Display model architecture summary \n",
    "model.summary()\n",
    "\n",
    "# Calculate pre-training accuracy \n",
    "score = model.evaluate(x_test, y_test, verbose=1)\n",
    "accuracy = 100*score[1]\n",
    "\n",
    "print(\"Pre-training accuracy: %.4f%%\" % accuracy)"
   ]
  },
  {
   "cell_type": "markdown",
   "metadata": {},
   "source": [
    "### Training \n",
    "\n",
    "Here we will train the model. As training a CNN can take a sigificant amount of time, we will start with a low number of epochs and a low batch size. If we can see from the output that the model is converging, we will increase both numbers.  "
   ]
  },
  {
   "cell_type": "code",
   "execution_count": 9,
   "metadata": {},
   "outputs": [
    {
     "name": "stdout",
     "output_type": "stream",
     "text": [
      "Train on 6985 samples, validate on 1747 samples\n",
      "Epoch 1/72\n",
      "6985/6985 [==============================] - 42s 6ms/step - loss: 0.2646 - acc: 0.9075 - val_loss: 0.3442 - val_acc: 0.8872\n",
      "\n",
      "Epoch 00001: val_loss improved from inf to 0.34419, saving model to saved_models/weights.best.basic_cnn.hdf5\n",
      "Epoch 2/72\n",
      "6985/6985 [==============================] - 39s 6ms/step - loss: 0.2514 - acc: 0.9094 - val_loss: 0.3332 - val_acc: 0.8958\n",
      "\n",
      "Epoch 00002: val_loss improved from 0.34419 to 0.33317, saving model to saved_models/weights.best.basic_cnn.hdf5\n",
      "Epoch 3/72\n",
      "6985/6985 [==============================] - 39s 6ms/step - loss: 0.2404 - acc: 0.9145 - val_loss: 0.3408 - val_acc: 0.8884\n",
      "\n",
      "Epoch 00003: val_loss did not improve from 0.33317\n",
      "Epoch 4/72\n",
      "6985/6985 [==============================] - 42s 6ms/step - loss: 0.2364 - acc: 0.9140 - val_loss: 0.3614 - val_acc: 0.8895\n",
      "\n",
      "Epoch 00004: val_loss did not improve from 0.33317\n",
      "Epoch 5/72\n",
      "6985/6985 [==============================] - 37s 5ms/step - loss: 0.2377 - acc: 0.9188 - val_loss: 0.3353 - val_acc: 0.8964\n",
      "\n",
      "Epoch 00005: val_loss did not improve from 0.33317\n",
      "Epoch 6/72\n",
      "6985/6985 [==============================] - 40s 6ms/step - loss: 0.2426 - acc: 0.9137 - val_loss: 0.3448 - val_acc: 0.8941\n",
      "\n",
      "Epoch 00006: val_loss did not improve from 0.33317\n",
      "Epoch 7/72\n",
      "6985/6985 [==============================] - 38s 5ms/step - loss: 0.2223 - acc: 0.9236 - val_loss: 0.3278 - val_acc: 0.8964\n",
      "\n",
      "Epoch 00007: val_loss improved from 0.33317 to 0.32778, saving model to saved_models/weights.best.basic_cnn.hdf5\n",
      "Epoch 8/72\n",
      "6985/6985 [==============================] - 40s 6ms/step - loss: 0.2354 - acc: 0.9150 - val_loss: 0.3027 - val_acc: 0.9038\n",
      "\n",
      "Epoch 00008: val_loss improved from 0.32778 to 0.30269, saving model to saved_models/weights.best.basic_cnn.hdf5\n",
      "Epoch 9/72\n",
      "6985/6985 [==============================] - 38s 5ms/step - loss: 0.2238 - acc: 0.9213 - val_loss: 0.3356 - val_acc: 0.8975\n",
      "\n",
      "Epoch 00009: val_loss did not improve from 0.30269\n",
      "Epoch 10/72\n",
      "6985/6985 [==============================] - 39s 6ms/step - loss: 0.2106 - acc: 0.9278 - val_loss: 0.3248 - val_acc: 0.9027\n",
      "\n",
      "Epoch 00010: val_loss did not improve from 0.30269\n",
      "Epoch 11/72\n",
      "6985/6985 [==============================] - 38s 5ms/step - loss: 0.2204 - acc: 0.9217 - val_loss: 0.3267 - val_acc: 0.9004\n",
      "\n",
      "Epoch 00011: val_loss did not improve from 0.30269\n",
      "Epoch 12/72\n",
      "6985/6985 [==============================] - 38s 5ms/step - loss: 0.2209 - acc: 0.9227 - val_loss: 0.3221 - val_acc: 0.9078\n",
      "\n",
      "Epoch 00012: val_loss did not improve from 0.30269\n",
      "Epoch 13/72\n",
      "6985/6985 [==============================] - 38s 6ms/step - loss: 0.2145 - acc: 0.9261 - val_loss: 0.3044 - val_acc: 0.9044\n",
      "\n",
      "Epoch 00013: val_loss did not improve from 0.30269\n",
      "Epoch 14/72\n",
      "6985/6985 [==============================] - 40s 6ms/step - loss: 0.2034 - acc: 0.9311 - val_loss: 0.2948 - val_acc: 0.9124\n",
      "\n",
      "Epoch 00014: val_loss improved from 0.30269 to 0.29481, saving model to saved_models/weights.best.basic_cnn.hdf5\n",
      "Epoch 15/72\n",
      "6985/6985 [==============================] - 40s 6ms/step - loss: 0.2153 - acc: 0.9251 - val_loss: 0.3242 - val_acc: 0.8998\n",
      "\n",
      "Epoch 00015: val_loss did not improve from 0.29481\n",
      "Epoch 16/72\n",
      "6985/6985 [==============================] - 41s 6ms/step - loss: 0.2014 - acc: 0.9277 - val_loss: 0.3024 - val_acc: 0.9044\n",
      "\n",
      "Epoch 00016: val_loss did not improve from 0.29481\n",
      "Epoch 17/72\n",
      "6985/6985 [==============================] - 39s 6ms/step - loss: 0.2138 - acc: 0.9246 - val_loss: 0.3272 - val_acc: 0.9004\n",
      "\n",
      "Epoch 00017: val_loss did not improve from 0.29481\n",
      "Epoch 18/72\n",
      "6985/6985 [==============================] - 39s 6ms/step - loss: 0.2067 - acc: 0.9264 - val_loss: 0.3282 - val_acc: 0.9033\n",
      "\n",
      "Epoch 00018: val_loss did not improve from 0.29481\n",
      "Epoch 19/72\n",
      "6985/6985 [==============================] - 39s 6ms/step - loss: 0.2064 - acc: 0.9273 - val_loss: 0.3254 - val_acc: 0.9044\n",
      "\n",
      "Epoch 00019: val_loss did not improve from 0.29481\n",
      "Epoch 20/72\n",
      "6985/6985 [==============================] - 39s 6ms/step - loss: 0.1896 - acc: 0.9356 - val_loss: 0.2922 - val_acc: 0.9136\n",
      "\n",
      "Epoch 00020: val_loss improved from 0.29481 to 0.29219, saving model to saved_models/weights.best.basic_cnn.hdf5\n",
      "Epoch 21/72\n",
      "6985/6985 [==============================] - 38s 5ms/step - loss: 0.1953 - acc: 0.9329 - val_loss: 0.2951 - val_acc: 0.9084\n",
      "\n",
      "Epoch 00021: val_loss did not improve from 0.29219\n",
      "Epoch 22/72\n",
      "6985/6985 [==============================] - 40s 6ms/step - loss: 0.1865 - acc: 0.9380 - val_loss: 0.3154 - val_acc: 0.9038\n",
      "\n",
      "Epoch 00022: val_loss did not improve from 0.29219\n",
      "Epoch 23/72\n",
      "6985/6985 [==============================] - 42s 6ms/step - loss: 0.1753 - acc: 0.9373 - val_loss: 0.2847 - val_acc: 0.9130\n",
      "\n",
      "Epoch 00023: val_loss improved from 0.29219 to 0.28470, saving model to saved_models/weights.best.basic_cnn.hdf5\n",
      "Epoch 24/72\n",
      "6985/6985 [==============================] - 34s 5ms/step - loss: 0.1758 - acc: 0.9389 - val_loss: 0.3444 - val_acc: 0.8998\n",
      "\n",
      "Epoch 00024: val_loss did not improve from 0.28470\n",
      "Epoch 25/72\n",
      "6985/6985 [==============================] - 38s 5ms/step - loss: 0.1886 - acc: 0.9343 - val_loss: 0.3404 - val_acc: 0.8993\n",
      "\n",
      "Epoch 00025: val_loss did not improve from 0.28470\n",
      "Epoch 26/72\n",
      "6985/6985 [==============================] - 38s 5ms/step - loss: 0.1803 - acc: 0.9376 - val_loss: 0.3046 - val_acc: 0.9090\n",
      "\n",
      "Epoch 00026: val_loss did not improve from 0.28470\n",
      "Epoch 27/72\n",
      "6985/6985 [==============================] - 33s 5ms/step - loss: 0.1858 - acc: 0.9370 - val_loss: 0.2844 - val_acc: 0.9153\n",
      "\n",
      "Epoch 00027: val_loss improved from 0.28470 to 0.28436, saving model to saved_models/weights.best.basic_cnn.hdf5\n",
      "Epoch 28/72\n",
      "6985/6985 [==============================] - 37s 5ms/step - loss: 0.1645 - acc: 0.9417 - val_loss: 0.3046 - val_acc: 0.9073\n",
      "\n",
      "Epoch 00028: val_loss did not improve from 0.28436\n",
      "Epoch 29/72\n",
      "6985/6985 [==============================] - 40s 6ms/step - loss: 0.1736 - acc: 0.9403 - val_loss: 0.3176 - val_acc: 0.9033\n",
      "\n",
      "Epoch 00029: val_loss did not improve from 0.28436\n",
      "Epoch 30/72\n",
      "6985/6985 [==============================] - 33s 5ms/step - loss: 0.1778 - acc: 0.9399 - val_loss: 0.3008 - val_acc: 0.9113\n",
      "\n",
      "Epoch 00030: val_loss did not improve from 0.28436\n",
      "Epoch 31/72\n",
      "6985/6985 [==============================] - 37s 5ms/step - loss: 0.1703 - acc: 0.9389 - val_loss: 0.2863 - val_acc: 0.9164\n",
      "\n",
      "Epoch 00031: val_loss did not improve from 0.28436\n",
      "Epoch 32/72\n",
      "6985/6985 [==============================] - 39s 6ms/step - loss: 0.1602 - acc: 0.9450 - val_loss: 0.2917 - val_acc: 0.9130\n",
      "\n",
      "Epoch 00032: val_loss did not improve from 0.28436\n",
      "Epoch 33/72\n",
      "6985/6985 [==============================] - 36s 5ms/step - loss: 0.1737 - acc: 0.9366 - val_loss: 0.3244 - val_acc: 0.9038\n",
      "\n",
      "Epoch 00033: val_loss did not improve from 0.28436\n",
      "Epoch 34/72\n",
      "6985/6985 [==============================] - 36s 5ms/step - loss: 0.1630 - acc: 0.9422 - val_loss: 0.3135 - val_acc: 0.9107\n",
      "\n",
      "Epoch 00034: val_loss did not improve from 0.28436\n",
      "Epoch 35/72\n",
      "6985/6985 [==============================] - 38s 5ms/step - loss: 0.1445 - acc: 0.9492 - val_loss: 0.2984 - val_acc: 0.9073\n",
      "\n",
      "Epoch 00035: val_loss did not improve from 0.28436\n",
      "Epoch 36/72\n",
      "6985/6985 [==============================] - 38s 5ms/step - loss: 0.1533 - acc: 0.9420 - val_loss: 0.3087 - val_acc: 0.9067\n",
      "\n",
      "Epoch 00036: val_loss did not improve from 0.28436\n",
      "Epoch 37/72\n",
      "6985/6985 [==============================] - 34s 5ms/step - loss: 0.1518 - acc: 0.9455 - val_loss: 0.3107 - val_acc: 0.9118\n",
      "\n",
      "Epoch 00037: val_loss did not improve from 0.28436\n",
      "Epoch 38/72\n",
      "6985/6985 [==============================] - 37s 5ms/step - loss: 0.1557 - acc: 0.9440 - val_loss: 0.3017 - val_acc: 0.9090\n",
      "\n",
      "Epoch 00038: val_loss did not improve from 0.28436\n",
      "Epoch 39/72\n",
      "6985/6985 [==============================] - 39s 6ms/step - loss: 0.1495 - acc: 0.9490 - val_loss: 0.2959 - val_acc: 0.9090\n",
      "\n",
      "Epoch 00039: val_loss did not improve from 0.28436\n",
      "Epoch 40/72\n",
      "6985/6985 [==============================] - 33s 5ms/step - loss: 0.1498 - acc: 0.9469 - val_loss: 0.3025 - val_acc: 0.9090\n",
      "\n",
      "Epoch 00040: val_loss did not improve from 0.28436\n",
      "Epoch 41/72\n",
      "6985/6985 [==============================] - 37s 5ms/step - loss: 0.1552 - acc: 0.9435 - val_loss: 0.2686 - val_acc: 0.9227\n",
      "\n",
      "Epoch 00041: val_loss improved from 0.28436 to 0.26864, saving model to saved_models/weights.best.basic_cnn.hdf5\n"
     ]
    },
    {
     "name": "stdout",
     "output_type": "stream",
     "text": [
      "Epoch 42/72\n",
      "6985/6985 [==============================] - 39s 6ms/step - loss: 0.1610 - acc: 0.9426 - val_loss: 0.2784 - val_acc: 0.9170\n",
      "\n",
      "Epoch 00042: val_loss did not improve from 0.26864\n",
      "Epoch 43/72\n",
      "6985/6985 [==============================] - 33s 5ms/step - loss: 0.1445 - acc: 0.9485 - val_loss: 0.3144 - val_acc: 0.9050\n",
      "\n",
      "Epoch 00043: val_loss did not improve from 0.26864\n",
      "Epoch 44/72\n",
      "6985/6985 [==============================] - 38s 5ms/step - loss: 0.1433 - acc: 0.9496 - val_loss: 0.3022 - val_acc: 0.9130\n",
      "\n",
      "Epoch 00044: val_loss did not improve from 0.26864\n",
      "Epoch 45/72\n",
      "6985/6985 [==============================] - 38s 5ms/step - loss: 0.1322 - acc: 0.9533 - val_loss: 0.2963 - val_acc: 0.9073\n",
      "\n",
      "Epoch 00045: val_loss did not improve from 0.26864\n",
      "Epoch 46/72\n",
      "6985/6985 [==============================] - 36s 5ms/step - loss: 0.1347 - acc: 0.9530 - val_loss: 0.3082 - val_acc: 0.9067\n",
      "\n",
      "Epoch 00046: val_loss did not improve from 0.26864\n",
      "Epoch 47/72\n",
      "6985/6985 [==============================] - 35s 5ms/step - loss: 0.1466 - acc: 0.9496 - val_loss: 0.3022 - val_acc: 0.9107\n",
      "\n",
      "Epoch 00047: val_loss did not improve from 0.26864\n",
      "Epoch 48/72\n",
      "6985/6985 [==============================] - 36s 5ms/step - loss: 0.1485 - acc: 0.9450 - val_loss: 0.2817 - val_acc: 0.9159\n",
      "\n",
      "Epoch 00048: val_loss did not improve from 0.26864\n",
      "Epoch 49/72\n",
      "6985/6985 [==============================] - 39s 6ms/step - loss: 0.1432 - acc: 0.9483 - val_loss: 0.2897 - val_acc: 0.9159\n",
      "\n",
      "Epoch 00049: val_loss did not improve from 0.26864\n",
      "Epoch 50/72\n",
      "6985/6985 [==============================] - 33s 5ms/step - loss: 0.1411 - acc: 0.9506 - val_loss: 0.3065 - val_acc: 0.9170\n",
      "\n",
      "Epoch 00050: val_loss did not improve from 0.26864\n",
      "Epoch 51/72\n",
      "6985/6985 [==============================] - 37s 5ms/step - loss: 0.1344 - acc: 0.9550 - val_loss: 0.2904 - val_acc: 0.9187\n",
      "\n",
      "Epoch 00051: val_loss did not improve from 0.26864\n",
      "Epoch 52/72\n",
      "6985/6985 [==============================] - 39s 6ms/step - loss: 0.1433 - acc: 0.9503 - val_loss: 0.2773 - val_acc: 0.9153\n",
      "\n",
      "Epoch 00052: val_loss did not improve from 0.26864\n",
      "Epoch 53/72\n",
      "6985/6985 [==============================] - 33s 5ms/step - loss: 0.1418 - acc: 0.9543 - val_loss: 0.2843 - val_acc: 0.9222\n",
      "\n",
      "Epoch 00053: val_loss did not improve from 0.26864\n",
      "Epoch 54/72\n",
      "6985/6985 [==============================] - 36s 5ms/step - loss: 0.1334 - acc: 0.9520 - val_loss: 0.2890 - val_acc: 0.9204\n",
      "\n",
      "Epoch 00054: val_loss did not improve from 0.26864\n",
      "Epoch 55/72\n",
      "6985/6985 [==============================] - 38s 5ms/step - loss: 0.1254 - acc: 0.9558 - val_loss: 0.3079 - val_acc: 0.9136\n",
      "\n",
      "Epoch 00055: val_loss did not improve from 0.26864\n",
      "Epoch 56/72\n",
      "6985/6985 [==============================] - 36s 5ms/step - loss: 0.1214 - acc: 0.9598 - val_loss: 0.2861 - val_acc: 0.9222\n",
      "\n",
      "Epoch 00056: val_loss did not improve from 0.26864\n",
      "Epoch 57/72\n",
      "6985/6985 [==============================] - 35s 5ms/step - loss: 0.1240 - acc: 0.9578 - val_loss: 0.2846 - val_acc: 0.9181\n",
      "\n",
      "Epoch 00057: val_loss did not improve from 0.26864\n",
      "Epoch 58/72\n",
      "6985/6985 [==============================] - 37s 5ms/step - loss: 0.1400 - acc: 0.9530 - val_loss: 0.2702 - val_acc: 0.9216\n",
      "\n",
      "Epoch 00058: val_loss did not improve from 0.26864\n",
      "Epoch 59/72\n",
      "6985/6985 [==============================] - 39s 6ms/step - loss: 0.1259 - acc: 0.9565 - val_loss: 0.2650 - val_acc: 0.9227\n",
      "\n",
      "Epoch 00059: val_loss improved from 0.26864 to 0.26496, saving model to saved_models/weights.best.basic_cnn.hdf5\n",
      "Epoch 60/72\n",
      "6985/6985 [==============================] - 34s 5ms/step - loss: 0.1306 - acc: 0.9515 - val_loss: 0.2827 - val_acc: 0.9199\n",
      "\n",
      "Epoch 00060: val_loss did not improve from 0.26496\n",
      "Epoch 61/72\n",
      "6985/6985 [==============================] - 38s 5ms/step - loss: 0.1183 - acc: 0.9581 - val_loss: 0.2916 - val_acc: 0.9176\n",
      "\n",
      "Epoch 00061: val_loss did not improve from 0.26496\n",
      "Epoch 62/72\n",
      "6985/6985 [==============================] - 39s 6ms/step - loss: 0.1124 - acc: 0.9581 - val_loss: 0.2820 - val_acc: 0.9216\n",
      "\n",
      "Epoch 00062: val_loss did not improve from 0.26496\n",
      "Epoch 63/72\n",
      "6985/6985 [==============================] - 32s 5ms/step - loss: 0.1252 - acc: 0.9542 - val_loss: 0.2769 - val_acc: 0.9210\n",
      "\n",
      "Epoch 00063: val_loss did not improve from 0.26496\n",
      "Epoch 64/72\n",
      "6985/6985 [==============================] - 39s 6ms/step - loss: 0.1182 - acc: 0.9585 - val_loss: 0.2594 - val_acc: 0.9273\n",
      "\n",
      "Epoch 00064: val_loss improved from 0.26496 to 0.25945, saving model to saved_models/weights.best.basic_cnn.hdf5\n",
      "Epoch 65/72\n",
      "6985/6985 [==============================] - 39s 6ms/step - loss: 0.1144 - acc: 0.9592 - val_loss: 0.2542 - val_acc: 0.9290\n",
      "\n",
      "Epoch 00065: val_loss improved from 0.25945 to 0.25422, saving model to saved_models/weights.best.basic_cnn.hdf5\n",
      "Epoch 66/72\n",
      "6985/6985 [==============================] - 34s 5ms/step - loss: 0.1149 - acc: 0.9582 - val_loss: 0.2801 - val_acc: 0.9216\n",
      "\n",
      "Epoch 00066: val_loss did not improve from 0.25422\n",
      "Epoch 67/72\n",
      "6985/6985 [==============================] - 36s 5ms/step - loss: 0.1081 - acc: 0.9616 - val_loss: 0.2756 - val_acc: 0.9250\n",
      "\n",
      "Epoch 00067: val_loss did not improve from 0.25422\n",
      "Epoch 68/72\n",
      "6985/6985 [==============================] - 38s 5ms/step - loss: 0.1129 - acc: 0.9615 - val_loss: 0.2833 - val_acc: 0.9181\n",
      "\n",
      "Epoch 00068: val_loss did not improve from 0.25422\n",
      "Epoch 69/72\n",
      "6985/6985 [==============================] - 36s 5ms/step - loss: 0.1122 - acc: 0.9586 - val_loss: 0.2850 - val_acc: 0.9141\n",
      "\n",
      "Epoch 00069: val_loss did not improve from 0.25422\n",
      "Epoch 70/72\n",
      "6985/6985 [==============================] - 36s 5ms/step - loss: 0.1213 - acc: 0.9578 - val_loss: 0.2691 - val_acc: 0.9204\n",
      "\n",
      "Epoch 00070: val_loss did not improve from 0.25422\n",
      "Epoch 71/72\n",
      "6985/6985 [==============================] - 37s 5ms/step - loss: 0.1161 - acc: 0.9591 - val_loss: 0.2594 - val_acc: 0.9250\n",
      "\n",
      "Epoch 00071: val_loss did not improve from 0.25422\n",
      "Epoch 72/72\n",
      "6985/6985 [==============================] - 39s 6ms/step - loss: 0.1054 - acc: 0.9645 - val_loss: 0.2754 - val_acc: 0.9267\n",
      "\n",
      "Epoch 00072: val_loss did not improve from 0.25422\n",
      "Training completed in time:  0:44:56.432441\n"
     ]
    }
   ],
   "source": [
    "from keras.callbacks import ModelCheckpoint \n",
    "from datetime import datetime \n",
    "\n",
    "#num_epochs = 12\n",
    "#num_batch_size = 128\n",
    "\n",
    "num_epochs = 72\n",
    "num_batch_size = 256\n",
    "\n",
    "checkpointer = ModelCheckpoint(filepath='saved_models/weights.best.basic_cnn.hdf5', \n",
    "                               verbose=1, save_best_only=True)\n",
    "start = datetime.now()\n",
    "\n",
    "model.fit(x_train, y_train, batch_size=num_batch_size, epochs=num_epochs, validation_data=(x_test, y_test), callbacks=[checkpointer], verbose=1)\n",
    "\n",
    "\n",
    "duration = datetime.now() - start\n",
    "print(\"Training completed in time: \", duration)"
   ]
  },
  {
   "cell_type": "markdown",
   "metadata": {},
   "source": [
    "### Test the model \n",
    "\n",
    "Here we will review the accuracy of the model on both the training and test data sets. "
   ]
  },
  {
   "cell_type": "code",
   "execution_count": 3,
   "metadata": {},
   "outputs": [
    {
     "ename": "NameError",
     "evalue": "name 'model' is not defined",
     "output_type": "error",
     "traceback": [
      "\u001b[1;31m---------------------------------------------------------------------------\u001b[0m",
      "\u001b[1;31mNameError\u001b[0m                                 Traceback (most recent call last)",
      "\u001b[1;32m<ipython-input-3-4749ecac04f6>\u001b[0m in \u001b[0;36m<module>\u001b[1;34m\u001b[0m\n\u001b[0;32m      1\u001b[0m \u001b[1;31m# Evaluating the model on the training and testing set\u001b[0m\u001b[1;33m\u001b[0m\u001b[1;33m\u001b[0m\u001b[1;33m\u001b[0m\u001b[0m\n\u001b[1;32m----> 2\u001b[1;33m \u001b[0mscore\u001b[0m \u001b[1;33m=\u001b[0m \u001b[0mmodel\u001b[0m\u001b[1;33m.\u001b[0m\u001b[0mevaluate\u001b[0m\u001b[1;33m(\u001b[0m\u001b[0mx_train\u001b[0m\u001b[1;33m,\u001b[0m \u001b[0my_train\u001b[0m\u001b[1;33m,\u001b[0m \u001b[0mverbose\u001b[0m\u001b[1;33m=\u001b[0m\u001b[1;36m0\u001b[0m\u001b[1;33m)\u001b[0m\u001b[1;33m\u001b[0m\u001b[1;33m\u001b[0m\u001b[0m\n\u001b[0m\u001b[0;32m      3\u001b[0m \u001b[0mprint\u001b[0m\u001b[1;33m(\u001b[0m\u001b[1;34m\"Training Accuracy: \"\u001b[0m\u001b[1;33m,\u001b[0m \u001b[0mscore\u001b[0m\u001b[1;33m[\u001b[0m\u001b[1;36m1\u001b[0m\u001b[1;33m]\u001b[0m\u001b[1;33m)\u001b[0m\u001b[1;33m\u001b[0m\u001b[1;33m\u001b[0m\u001b[0m\n\u001b[0;32m      4\u001b[0m \u001b[1;33m\u001b[0m\u001b[0m\n\u001b[0;32m      5\u001b[0m \u001b[0mscore\u001b[0m \u001b[1;33m=\u001b[0m \u001b[0mmodel\u001b[0m\u001b[1;33m.\u001b[0m\u001b[0mevaluate\u001b[0m\u001b[1;33m(\u001b[0m\u001b[0mx_test\u001b[0m\u001b[1;33m,\u001b[0m \u001b[0my_test\u001b[0m\u001b[1;33m,\u001b[0m \u001b[0mverbose\u001b[0m\u001b[1;33m=\u001b[0m\u001b[1;36m0\u001b[0m\u001b[1;33m)\u001b[0m\u001b[1;33m\u001b[0m\u001b[1;33m\u001b[0m\u001b[0m\n",
      "\u001b[1;31mNameError\u001b[0m: name 'model' is not defined"
     ]
    }
   ],
   "source": [
    "# Evaluating the model on the training and testing set\n",
    "score = model.evaluate(x_train, y_train, verbose=0)\n",
    "print(\"Training Accuracy: \", score[1])\n",
    "\n",
    "score = model.evaluate(x_test, y_test, verbose=0)\n",
    "print(\"Testing Accuracy: \", score[1])"
   ]
  },
  {
   "cell_type": "markdown",
   "metadata": {},
   "source": [
    "The Training and Testing accuracy scores are both high and an increase on our initial model. Training accuracy has increased by ~6% and Testing accuracy has increased by ~4%. \n",
    "\n",
    "There is a marginal increase in the difference between the Training and Test scores (~6% compared to ~5% previously) though the difference remains low so the model has not suffered from overfitting. "
   ]
  },
  {
   "cell_type": "markdown",
   "metadata": {},
   "source": [
    "### Predictions  \n",
    "\n",
    "Here we will modify our previous method for testing the models predictions on a specified audio .wav file. "
   ]
  },
  {
   "cell_type": "code",
   "execution_count": 358,
   "metadata": {},
   "outputs": [],
   "source": [
    "def print_prediction(file_name):\n",
    "    prediction_feature = extract_features(file_name) \n",
    "    prediction_feature = prediction_feature.reshape(1, num_rows, num_columns, num_channels)\n",
    "    \n",
    "    predicted_proba_vector = model.predict_proba(prediction_feature) \n",
    "    predicted_proba = predicted_proba_vector[0]\n",
    "    \n",
    "    if (predicted_proba[6] > 0.5):\n",
    "        \n",
    "        print(\"Gunshot detected\")\n",
    "    else:\n",
    "        print(\"no Gunshot detected\")\n",
    "        \n",
    "\n",
    "       \n",
    "    \n",
    "    "
   ]
  },
  {
   "cell_type": "markdown",
   "metadata": {},
   "source": [
    "### Validation \n",
    "\n",
    "#### Test with sample data \n",
    "\n",
    "As before we will verify the predictions using a subsection of the sample audio files we explored in the first notebook. We expect the bulk of these to be classified correctly. "
   ]
  },
  {
   "cell_type": "code",
   "execution_count": 359,
   "metadata": {},
   "outputs": [
    {
     "name": "stdout",
     "output_type": "stream",
     "text": [
      "no Gunshot detected\n"
     ]
    }
   ],
   "source": [
    "# Class: Air Conditioner\n",
    "\n",
    "filename = '../UrbanSound Dataset sample/audio/100852-0-0-0.wav' \n",
    "print_prediction(filename) "
   ]
  },
  {
   "cell_type": "code",
   "execution_count": 343,
   "metadata": {
    "scrolled": true
   },
   "outputs": [
    {
     "name": "stdout",
     "output_type": "stream",
     "text": [
      "no Gunshot detected\n"
     ]
    }
   ],
   "source": [
    "# Class: Drilling\n",
    "\n",
    "filename = '../UrbanSound Dataset sample/audio/103199-4-0-0.wav'\n",
    "print_prediction(filename) "
   ]
  },
  {
   "cell_type": "code",
   "execution_count": 344,
   "metadata": {},
   "outputs": [
    {
     "name": "stdout",
     "output_type": "stream",
     "text": [
      "no Gunshot detected\n"
     ]
    }
   ],
   "source": [
    "# Class: Street music \n",
    "\n",
    "filename = '../UrbanSound Dataset sample/audio/101848-9-0-0.wav'\n",
    "print_prediction(filename) "
   ]
  },
  {
   "cell_type": "code",
   "execution_count": 345,
   "metadata": {},
   "outputs": [
    {
     "name": "stdout",
     "output_type": "stream",
     "text": [
      "no Gunshot detected\n"
     ]
    }
   ],
   "source": [
    "# Class: Car Horn \n",
    "\n",
    "filename = '../UrbanSound Dataset sample/audio/100648-1-0-0.wav'\n",
    "print_prediction(filename) "
   ]
  },
  {
   "cell_type": "markdown",
   "metadata": {},
   "source": [
    "#### Observations \n",
    "\n",
    "We can see that the model performs well. \n",
    "\n",
    "Interestingly, car horn was again incorrectly classifed but this time as drilling - though the per class confidence shows it was a close decision between car horn with 26% confidence and drilling at 34% confidence.  "
   ]
  },
  {
   "cell_type": "markdown",
   "metadata": {},
   "source": [
    "### Other audio\n",
    "\n",
    "Again we will further validate our model using a sample of various copyright free sounds that we not part of either our test or training data. "
   ]
  },
  {
   "cell_type": "code",
   "execution_count": 346,
   "metadata": {},
   "outputs": [
    {
     "name": "stdout",
     "output_type": "stream",
     "text": [
      "no Gunshot detected\n"
     ]
    }
   ],
   "source": [
    "filename = '../Evaluation audio/dog_bark_1.wav'\n",
    "print_prediction(filename) "
   ]
  },
  {
   "cell_type": "code",
   "execution_count": 347,
   "metadata": {
    "scrolled": true
   },
   "outputs": [
    {
     "name": "stdout",
     "output_type": "stream",
     "text": [
      "no Gunshot detected\n"
     ]
    }
   ],
   "source": [
    "filename = '../Evaluation audio/drilling_1.wav'\n",
    "\n",
    "print_prediction(filename) "
   ]
  },
  {
   "cell_type": "code",
   "execution_count": 354,
   "metadata": {},
   "outputs": [
    {
     "name": "stdout",
     "output_type": "stream",
     "text": [
      "Gunshot detected\n"
     ]
    }
   ],
   "source": [
    "filename = '../Evaluation audio/MP5_SMG-GunGuru-703432894.wav'\n",
    "\n",
    "print_prediction(filename) "
   ]
  },
  {
   "cell_type": "code",
   "execution_count": 355,
   "metadata": {},
   "outputs": [
    {
     "name": "stdout",
     "output_type": "stream",
     "text": [
      "Gunshot detected\n"
     ]
    }
   ],
   "source": [
    "filename = '../Evaluation audio/Sniper_Rifle-Kibblesbob-2053709564.wav'\n",
    "\n",
    "print_prediction(filename)"
   ]
  },
  {
   "cell_type": "code",
   "execution_count": 357,
   "metadata": {},
   "outputs": [
    {
     "name": "stdout",
     "output_type": "stream",
     "text": [
      "Gunshot detected\n"
     ]
    }
   ],
   "source": [
    "filename = '../Evaluation audio/9_mm_gunshot-mike-koenig-123.wav'\n",
    "\n",
    "print_prediction(filename)"
   ]
  },
  {
   "cell_type": "code",
   "execution_count": 353,
   "metadata": {},
   "outputs": [
    {
     "name": "stdout",
     "output_type": "stream",
     "text": [
      "Gunshot detected\n"
     ]
    }
   ],
   "source": [
    "filename = '../Evaluation audio/380_gunshot_single-mike-koenig.wav'\n",
    "\n",
    "print_prediction(filename)"
   ]
  },
  {
   "cell_type": "markdown",
   "metadata": {},
   "source": [
    "## Tested 4 new .Wav audio files from soundbible.com"
   ]
  }
 ],
 "metadata": {
  "kernelspec": {
   "display_name": "Python [conda env:root]",
   "language": "python",
   "name": "conda-root-py"
  },
  "language_info": {
   "codemirror_mode": {
    "name": "ipython",
    "version": 3
   },
   "file_extension": ".py",
   "mimetype": "text/x-python",
   "name": "python",
   "nbconvert_exporter": "python",
   "pygments_lexer": "ipython3",
   "version": "3.7.3"
  }
 },
 "nbformat": 4,
 "nbformat_minor": 2
}
